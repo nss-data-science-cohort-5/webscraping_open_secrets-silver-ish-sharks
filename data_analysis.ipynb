{
 "cells": [
  {
   "cell_type": "code",
   "execution_count": 2,
   "id": "c60a0a89",
   "metadata": {},
   "outputs": [],
   "source": [
    "import pandas as pd\n",
    "import seaborn as sns\n",
    "import statsmodels.api as sm\n",
    "import matplotlib.pyplot as plt"
   ]
  },
  {
   "cell_type": "code",
   "execution_count": 4,
   "id": "811f4771",
   "metadata": {},
   "outputs": [],
   "source": [
    "election_results=pd.read_csv('./election_results.csv')"
   ]
  },
  {
   "cell_type": "code",
   "execution_count": 5,
   "id": "81ca6039",
   "metadata": {},
   "outputs": [
    {
     "data": {
      "text/html": [
       "<div>\n",
       "<style scoped>\n",
       "    .dataframe tbody tr th:only-of-type {\n",
       "        vertical-align: middle;\n",
       "    }\n",
       "\n",
       "    .dataframe tbody tr th {\n",
       "        vertical-align: top;\n",
       "    }\n",
       "\n",
       "    .dataframe thead th {\n",
       "        text-align: right;\n",
       "    }\n",
       "</style>\n",
       "<table border=\"1\" class=\"dataframe\">\n",
       "  <thead>\n",
       "    <tr style=\"text-align: right;\">\n",
       "      <th></th>\n",
       "      <th>Unnamed: 0</th>\n",
       "      <th>Candidate_name</th>\n",
       "      <th>Party</th>\n",
       "      <th>State</th>\n",
       "      <th>District</th>\n",
       "      <th>Incumbent</th>\n",
       "      <th>Winner</th>\n",
       "      <th>Raised</th>\n",
       "      <th>Spent</th>\n",
       "      <th>percent_raised</th>\n",
       "      <th>percent_spent</th>\n",
       "    </tr>\n",
       "  </thead>\n",
       "  <tbody>\n",
       "    <tr>\n",
       "      <th>0</th>\n",
       "      <td>0</td>\n",
       "      <td>Jerry Carl</td>\n",
       "      <td>R</td>\n",
       "      <td>Alabama</td>\n",
       "      <td>1</td>\n",
       "      <td>False</td>\n",
       "      <td>True</td>\n",
       "      <td>1971321</td>\n",
       "      <td>1859349</td>\n",
       "      <td>96.095624</td>\n",
       "      <td>95.925703</td>\n",
       "    </tr>\n",
       "    <tr>\n",
       "      <th>1</th>\n",
       "      <td>1</td>\n",
       "      <td>James Averhart</td>\n",
       "      <td>D</td>\n",
       "      <td>Alabama</td>\n",
       "      <td>1</td>\n",
       "      <td>False</td>\n",
       "      <td>False</td>\n",
       "      <td>80095</td>\n",
       "      <td>78973</td>\n",
       "      <td>3.904376</td>\n",
       "      <td>4.074297</td>\n",
       "    </tr>\n",
       "    <tr>\n",
       "      <th>2</th>\n",
       "      <td>0</td>\n",
       "      <td>Barry Moore</td>\n",
       "      <td>R</td>\n",
       "      <td>Alabama</td>\n",
       "      <td>2</td>\n",
       "      <td>False</td>\n",
       "      <td>True</td>\n",
       "      <td>650807</td>\n",
       "      <td>669368</td>\n",
       "      <td>92.070532</td>\n",
       "      <td>92.281307</td>\n",
       "    </tr>\n",
       "    <tr>\n",
       "      <th>3</th>\n",
       "      <td>1</td>\n",
       "      <td>Phyllis Harvey</td>\n",
       "      <td>D</td>\n",
       "      <td>Alabama</td>\n",
       "      <td>2</td>\n",
       "      <td>False</td>\n",
       "      <td>False</td>\n",
       "      <td>56050</td>\n",
       "      <td>55988</td>\n",
       "      <td>7.929468</td>\n",
       "      <td>7.718693</td>\n",
       "    </tr>\n",
       "    <tr>\n",
       "      <th>4</th>\n",
       "      <td>0</td>\n",
       "      <td>Mike D Rogers</td>\n",
       "      <td>R</td>\n",
       "      <td>Alabama</td>\n",
       "      <td>3</td>\n",
       "      <td>True</td>\n",
       "      <td>True</td>\n",
       "      <td>1193111</td>\n",
       "      <td>1218564</td>\n",
       "      <td>95.956760</td>\n",
       "      <td>96.747133</td>\n",
       "    </tr>\n",
       "  </tbody>\n",
       "</table>\n",
       "</div>"
      ],
      "text/plain": [
       "   Unnamed: 0  Candidate_name Party    State  District  Incumbent  Winner  \\\n",
       "0           0      Jerry Carl     R  Alabama         1      False    True   \n",
       "1           1  James Averhart     D  Alabama         1      False   False   \n",
       "2           0     Barry Moore     R  Alabama         2      False    True   \n",
       "3           1  Phyllis Harvey     D  Alabama         2      False   False   \n",
       "4           0   Mike D Rogers     R  Alabama         3       True    True   \n",
       "\n",
       "    Raised    Spent  percent_raised  percent_spent  \n",
       "0  1971321  1859349       96.095624      95.925703  \n",
       "1    80095    78973        3.904376       4.074297  \n",
       "2   650807   669368       92.070532      92.281307  \n",
       "3    56050    55988        7.929468       7.718693  \n",
       "4  1193111  1218564       95.956760      96.747133  "
      ]
     },
     "execution_count": 5,
     "metadata": {},
     "output_type": "execute_result"
    }
   ],
   "source": [
    "election_results.head()"
   ]
  },
  {
   "cell_type": "code",
   "execution_count": 6,
   "id": "11e88317",
   "metadata": {},
   "outputs": [],
   "source": [
    "election_results.replace({False: 0, True: 1}, inplace=True)"
   ]
  },
  {
   "cell_type": "code",
   "execution_count": 7,
   "id": "42dca678",
   "metadata": {},
   "outputs": [
    {
     "data": {
      "text/html": [
       "<div>\n",
       "<style scoped>\n",
       "    .dataframe tbody tr th:only-of-type {\n",
       "        vertical-align: middle;\n",
       "    }\n",
       "\n",
       "    .dataframe tbody tr th {\n",
       "        vertical-align: top;\n",
       "    }\n",
       "\n",
       "    .dataframe thead th {\n",
       "        text-align: right;\n",
       "    }\n",
       "</style>\n",
       "<table border=\"1\" class=\"dataframe\">\n",
       "  <thead>\n",
       "    <tr style=\"text-align: right;\">\n",
       "      <th></th>\n",
       "      <th>Unnamed: 0</th>\n",
       "      <th>Candidate_name</th>\n",
       "      <th>Party</th>\n",
       "      <th>State</th>\n",
       "      <th>District</th>\n",
       "      <th>Incumbent</th>\n",
       "      <th>Winner</th>\n",
       "      <th>Raised</th>\n",
       "      <th>Spent</th>\n",
       "      <th>percent_raised</th>\n",
       "      <th>percent_spent</th>\n",
       "    </tr>\n",
       "  </thead>\n",
       "  <tbody>\n",
       "    <tr>\n",
       "      <th>0</th>\n",
       "      <td>0</td>\n",
       "      <td>Jerry Carl</td>\n",
       "      <td>R</td>\n",
       "      <td>Alabama</td>\n",
       "      <td>1</td>\n",
       "      <td>0</td>\n",
       "      <td>1</td>\n",
       "      <td>1971321</td>\n",
       "      <td>1859349</td>\n",
       "      <td>96.095624</td>\n",
       "      <td>95.925703</td>\n",
       "    </tr>\n",
       "    <tr>\n",
       "      <th>1</th>\n",
       "      <td>1</td>\n",
       "      <td>James Averhart</td>\n",
       "      <td>D</td>\n",
       "      <td>Alabama</td>\n",
       "      <td>1</td>\n",
       "      <td>0</td>\n",
       "      <td>0</td>\n",
       "      <td>80095</td>\n",
       "      <td>78973</td>\n",
       "      <td>3.904376</td>\n",
       "      <td>4.074297</td>\n",
       "    </tr>\n",
       "    <tr>\n",
       "      <th>2</th>\n",
       "      <td>0</td>\n",
       "      <td>Barry Moore</td>\n",
       "      <td>R</td>\n",
       "      <td>Alabama</td>\n",
       "      <td>2</td>\n",
       "      <td>0</td>\n",
       "      <td>1</td>\n",
       "      <td>650807</td>\n",
       "      <td>669368</td>\n",
       "      <td>92.070532</td>\n",
       "      <td>92.281307</td>\n",
       "    </tr>\n",
       "    <tr>\n",
       "      <th>3</th>\n",
       "      <td>1</td>\n",
       "      <td>Phyllis Harvey</td>\n",
       "      <td>D</td>\n",
       "      <td>Alabama</td>\n",
       "      <td>2</td>\n",
       "      <td>0</td>\n",
       "      <td>0</td>\n",
       "      <td>56050</td>\n",
       "      <td>55988</td>\n",
       "      <td>7.929468</td>\n",
       "      <td>7.718693</td>\n",
       "    </tr>\n",
       "    <tr>\n",
       "      <th>4</th>\n",
       "      <td>0</td>\n",
       "      <td>Mike D Rogers</td>\n",
       "      <td>R</td>\n",
       "      <td>Alabama</td>\n",
       "      <td>3</td>\n",
       "      <td>1</td>\n",
       "      <td>1</td>\n",
       "      <td>1193111</td>\n",
       "      <td>1218564</td>\n",
       "      <td>95.956760</td>\n",
       "      <td>96.747133</td>\n",
       "    </tr>\n",
       "  </tbody>\n",
       "</table>\n",
       "</div>"
      ],
      "text/plain": [
       "   Unnamed: 0  Candidate_name Party    State  District  Incumbent  Winner  \\\n",
       "0           0      Jerry Carl     R  Alabama         1          0       1   \n",
       "1           1  James Averhart     D  Alabama         1          0       0   \n",
       "2           0     Barry Moore     R  Alabama         2          0       1   \n",
       "3           1  Phyllis Harvey     D  Alabama         2          0       0   \n",
       "4           0   Mike D Rogers     R  Alabama         3          1       1   \n",
       "\n",
       "    Raised    Spent  percent_raised  percent_spent  \n",
       "0  1971321  1859349       96.095624      95.925703  \n",
       "1    80095    78973        3.904376       4.074297  \n",
       "2   650807   669368       92.070532      92.281307  \n",
       "3    56050    55988        7.929468       7.718693  \n",
       "4  1193111  1218564       95.956760      96.747133  "
      ]
     },
     "execution_count": 7,
     "metadata": {},
     "output_type": "execute_result"
    }
   ],
   "source": [
    "election_results.head()"
   ]
  },
  {
   "cell_type": "code",
   "execution_count": 8,
   "id": "06cee949",
   "metadata": {},
   "outputs": [
    {
     "data": {
      "text/plain": [
       "Text(0.5, 1.0, 'Probability of Winning given the change in Funds Raised (%)')"
      ]
     },
     "execution_count": 8,
     "metadata": {},
     "output_type": "execute_result"
    },
    {
     "data": {
      "image/png": "[encoded data removed]",
      "text/plain": [
       "<Figure size 432x288 with 1 Axes>"
      ]
     },
     "metadata": {},
     "output_type": "display_data"
    }
   ],
   "source": [
    "#fit a logistic regression to visualise how the probability of winning changes with changes in the %of funds raised\n",
    "sns.set_theme(color_codes=True)\n",
    "sns.regplot(x='percent_raised', y='Winner',\n",
    "            data=election_results,\n",
    "            logistic=True,\n",
    "            ci=None);\n",
    "plt.title('Probability of Winning given the change in Funds Raised (%)')"
   ]
  },
  {
   "cell_type": "code",
   "execution_count": 9,
   "id": "ca022ecd",
   "metadata": {},
   "outputs": [
    {
     "data": {
      "text/html": [
       "<div>\n",
       "<style scoped>\n",
       "    .dataframe tbody tr th:only-of-type {\n",
       "        vertical-align: middle;\n",
       "    }\n",
       "\n",
       "    .dataframe tbody tr th {\n",
       "        vertical-align: top;\n",
       "    }\n",
       "\n",
       "    .dataframe thead th {\n",
       "        text-align: right;\n",
       "    }\n",
       "</style>\n",
       "<table border=\"1\" class=\"dataframe\">\n",
       "  <thead>\n",
       "    <tr style=\"text-align: right;\">\n",
       "      <th></th>\n",
       "      <th>Unnamed: 0</th>\n",
       "      <th>District</th>\n",
       "      <th>Incumbent</th>\n",
       "      <th>Winner</th>\n",
       "      <th>Raised</th>\n",
       "      <th>Spent</th>\n",
       "      <th>percent_raised</th>\n",
       "      <th>percent_spent</th>\n",
       "    </tr>\n",
       "  </thead>\n",
       "  <tbody>\n",
       "    <tr>\n",
       "      <th>count</th>\n",
       "      <td>894.000000</td>\n",
       "      <td>894.00000</td>\n",
       "      <td>894.000000</td>\n",
       "      <td>894.000000</td>\n",
       "      <td>8.940000e+02</td>\n",
       "      <td>8.940000e+02</td>\n",
       "      <td>894.000000</td>\n",
       "      <td>894.000000</td>\n",
       "    </tr>\n",
       "    <tr>\n",
       "      <th>mean</th>\n",
       "      <td>0.644295</td>\n",
       "      <td>10.12528</td>\n",
       "      <td>0.431767</td>\n",
       "      <td>0.482103</td>\n",
       "      <td>1.865604e+06</td>\n",
       "      <td>1.684187e+06</td>\n",
       "      <td>48.657718</td>\n",
       "      <td>48.657718</td>\n",
       "    </tr>\n",
       "    <tr>\n",
       "      <th>std</th>\n",
       "      <td>0.798154</td>\n",
       "      <td>10.44379</td>\n",
       "      <td>0.495600</td>\n",
       "      <td>0.499959</td>\n",
       "      <td>3.025961e+06</td>\n",
       "      <td>2.625248e+06</td>\n",
       "      <td>38.202640</td>\n",
       "      <td>37.598903</td>\n",
       "    </tr>\n",
       "    <tr>\n",
       "      <th>min</th>\n",
       "      <td>0.000000</td>\n",
       "      <td>1.00000</td>\n",
       "      <td>0.000000</td>\n",
       "      <td>0.000000</td>\n",
       "      <td>4.700000e+01</td>\n",
       "      <td>0.000000e+00</td>\n",
       "      <td>0.001415</td>\n",
       "      <td>0.000000</td>\n",
       "    </tr>\n",
       "    <tr>\n",
       "      <th>25%</th>\n",
       "      <td>0.000000</td>\n",
       "      <td>3.00000</td>\n",
       "      <td>0.000000</td>\n",
       "      <td>0.000000</td>\n",
       "      <td>1.288542e+05</td>\n",
       "      <td>1.109045e+05</td>\n",
       "      <td>6.920725</td>\n",
       "      <td>7.570935</td>\n",
       "    </tr>\n",
       "    <tr>\n",
       "      <th>50%</th>\n",
       "      <td>1.000000</td>\n",
       "      <td>6.00000</td>\n",
       "      <td>0.000000</td>\n",
       "      <td>0.000000</td>\n",
       "      <td>1.085950e+06</td>\n",
       "      <td>9.449390e+05</td>\n",
       "      <td>48.235941</td>\n",
       "      <td>47.676096</td>\n",
       "    </tr>\n",
       "    <tr>\n",
       "      <th>75%</th>\n",
       "      <td>1.000000</td>\n",
       "      <td>13.00000</td>\n",
       "      <td>1.000000</td>\n",
       "      <td>1.000000</td>\n",
       "      <td>2.261850e+06</td>\n",
       "      <td>2.028943e+06</td>\n",
       "      <td>89.720358</td>\n",
       "      <td>89.272530</td>\n",
       "    </tr>\n",
       "    <tr>\n",
       "      <th>max</th>\n",
       "      <td>7.000000</td>\n",
       "      <td>53.00000</td>\n",
       "      <td>1.000000</td>\n",
       "      <td>1.000000</td>\n",
       "      <td>3.726283e+07</td>\n",
       "      <td>3.283061e+07</td>\n",
       "      <td>100.000000</td>\n",
       "      <td>100.000000</td>\n",
       "    </tr>\n",
       "  </tbody>\n",
       "</table>\n",
       "</div>"
      ],
      "text/plain": [
       "       Unnamed: 0   District   Incumbent      Winner        Raised  \\\n",
       "count  894.000000  894.00000  894.000000  894.000000  8.940000e+02   \n",
       "mean     0.644295   10.12528    0.431767    0.482103  1.865604e+06   \n",
       "std      0.798154   10.44379    0.495600    0.499959  3.025961e+06   \n",
       "min      0.000000    1.00000    0.000000    0.000000  4.700000e+01   \n",
       "25%      0.000000    3.00000    0.000000    0.000000  1.288542e+05   \n",
       "50%      1.000000    6.00000    0.000000    0.000000  1.085950e+06   \n",
       "75%      1.000000   13.00000    1.000000    1.000000  2.261850e+06   \n",
       "max      7.000000   53.00000    1.000000    1.000000  3.726283e+07   \n",
       "\n",
       "              Spent  percent_raised  percent_spent  \n",
       "count  8.940000e+02      894.000000     894.000000  \n",
       "mean   1.684187e+06       48.657718      48.657718  \n",
       "std    2.625248e+06       38.202640      37.598903  \n",
       "min    0.000000e+00        0.001415       0.000000  \n",
       "25%    1.109045e+05        6.920725       7.570935  \n",
       "50%    9.449390e+05       48.235941      47.676096  \n",
       "75%    2.028943e+06       89.720358      89.272530  \n",
       "max    3.283061e+07      100.000000     100.000000  "
      ]
     },
     "execution_count": 9,
     "metadata": {},
     "output_type": "execute_result"
    }
   ],
   "source": [
    "election_results.describe()"
   ]
  },
  {
   "cell_type": "code",
   "execution_count": 10,
   "id": "5bfe2a34",
   "metadata": {},
   "outputs": [
    {
     "name": "stderr",
     "output_type": "stream",
     "text": [
      "C:\\Users\\U6033919\\Anaconda3\\envs\\geospatial\\lib\\site-packages\\statsmodels\\tsa\\tsatools.py:142: FutureWarning: In a future version of pandas all arguments of concat except for the argument 'objs' will be keyword-only\n",
      "  x = pd.concat(x[::order], 1)\n"
     ]
    }
   ],
   "source": [
    "#Fitting a logistic regression model\n",
    "base_logreg = (sm.GLM(endog = election_results['Winner'],\n",
    "                 exog = sm.add_constant(election_results[[]]),\n",
    "                 family=sm.families.Binomial())\n",
    "                 .fit()\n",
    "                 )"
   ]
  },
  {
   "cell_type": "code",
   "execution_count": 11,
   "id": "0bfbb69c",
   "metadata": {},
   "outputs": [
    {
     "data": {
      "text/html": [
       "<table class=\"simpletable\">\n",
       "<caption>Generalized Linear Model Regression Results</caption>\n",
       "<tr>\n",
       "  <th>Dep. Variable:</th>        <td>Winner</td>      <th>  No. Observations:  </th>  <td>   894</td> \n",
       "</tr>\n",
       "<tr>\n",
       "  <th>Model:</th>                  <td>GLM</td>       <th>  Df Residuals:      </th>  <td>   893</td> \n",
       "</tr>\n",
       "<tr>\n",
       "  <th>Model Family:</th>        <td>Binomial</td>     <th>  Df Model:          </th>  <td>     0</td> \n",
       "</tr>\n",
       "<tr>\n",
       "  <th>Link Function:</th>         <td>logit</td>      <th>  Scale:             </th> <td>  1.0000</td>\n",
       "</tr>\n",
       "<tr>\n",
       "  <th>Method:</th>                <td>IRLS</td>       <th>  Log-Likelihood:    </th> <td> -619.10</td>\n",
       "</tr>\n",
       "<tr>\n",
       "  <th>Date:</th>            <td>Wed, 20 Oct 2021</td> <th>  Deviance:          </th> <td>  1238.2</td>\n",
       "</tr>\n",
       "<tr>\n",
       "  <th>Time:</th>                <td>09:49:48</td>     <th>  Pearson chi2:      </th>  <td>  894.</td> \n",
       "</tr>\n",
       "<tr>\n",
       "  <th>No. Iterations:</th>          <td>3</td>        <th>                     </th>     <td> </td>   \n",
       "</tr>\n",
       "<tr>\n",
       "  <th>Covariance Type:</th>     <td>nonrobust</td>    <th>                     </th>     <td> </td>   \n",
       "</tr>\n",
       "</table>\n",
       "<table class=\"simpletable\">\n",
       "<tr>\n",
       "    <td></td>       <th>coef</th>     <th>std err</th>      <th>z</th>      <th>P>|z|</th>  <th>[0.025</th>    <th>0.975]</th>  \n",
       "</tr>\n",
       "<tr>\n",
       "  <th>const</th> <td>   -0.0716</td> <td>    0.067</td> <td>   -1.070</td> <td> 0.285</td> <td>   -0.203</td> <td>    0.060</td>\n",
       "</tr>\n",
       "</table>"
      ],
      "text/plain": [
       "<class 'statsmodels.iolib.summary.Summary'>\n",
       "\"\"\"\n",
       "                 Generalized Linear Model Regression Results                  \n",
       "==============================================================================\n",
       "Dep. Variable:                 Winner   No. Observations:                  894\n",
       "Model:                            GLM   Df Residuals:                      893\n",
       "Model Family:                Binomial   Df Model:                            0\n",
       "Link Function:                  logit   Scale:                          1.0000\n",
       "Method:                          IRLS   Log-Likelihood:                -619.10\n",
       "Date:                Wed, 20 Oct 2021   Deviance:                       1238.2\n",
       "Time:                        09:49:48   Pearson chi2:                     894.\n",
       "No. Iterations:                     3                                         \n",
       "Covariance Type:            nonrobust                                         \n",
       "==============================================================================\n",
       "                 coef    std err          z      P>|z|      [0.025      0.975]\n",
       "------------------------------------------------------------------------------\n",
       "const         -0.0716      0.067     -1.070      0.285      -0.203       0.060\n",
       "==============================================================================\n",
       "\"\"\""
      ]
     },
     "execution_count": 11,
     "metadata": {},
     "output_type": "execute_result"
    }
   ],
   "source": [
    "base_logreg.summary()"
   ]
  },
  {
   "cell_type": "code",
   "execution_count": 20,
   "id": "1e748f05",
   "metadata": {},
   "outputs": [
    {
     "name": "stderr",
     "output_type": "stream",
     "text": [
      "*c* argument looks like a single numeric RGB or RGBA sequence, which should be avoided as value-mapping will have precedence in case its length matches with *x* & *y*.  Please use the *color* keyword-argument or provide a 2-D array with a single row if you intend to specify the same RGB or RGBA value for all points.\n"
     ]
    },
    {
     "data": {
      "text/plain": [
       "<AxesSubplot:xlabel='percent_raised', ylabel='Winner'>"
      ]
     },
     "execution_count": 20,
     "metadata": {},
     "output_type": "execute_result"
    },
    {
     "data": {
      "image/png": "[encoded data removed]",
      "text/plain": [
       "<Figure size 432x288 with 1 Axes>"
      ]
     },
     "metadata": {},
     "output_type": "display_data"
    }
   ],
   "source": [
    "election_results.plot(kind='scatter', x= 'percent_raised', y='Winner')\n"
   ]
  },
  {
   "cell_type": "code",
   "execution_count": 21,
   "id": "642de5e1",
   "metadata": {},
   "outputs": [
    {
     "name": "stderr",
     "output_type": "stream",
     "text": [
      "C:\\Users\\U6033919\\Anaconda3\\envs\\geospatial\\lib\\site-packages\\statsmodels\\tsa\\tsatools.py:142: FutureWarning: In a future version of pandas all arguments of concat except for the argument 'objs' will be keyword-only\n",
      "  x = pd.concat(x[::order], 1)\n"
     ]
    }
   ],
   "source": [
    "funds_raised_logreg = (sm.GLM(endog = election_results['Winner'],\n",
    "                 exog = sm.add_constant(election_results[['percent_raised']]),\n",
    "                 family=sm.families.Binomial())\n",
    "                 .fit()\n",
    "                 )"
   ]
  },
  {
   "cell_type": "code",
   "execution_count": 22,
   "id": "79e64a7f",
   "metadata": {},
   "outputs": [
    {
     "data": {
      "text/html": [
       "<table class=\"simpletable\">\n",
       "<caption>Generalized Linear Model Regression Results</caption>\n",
       "<tr>\n",
       "  <th>Dep. Variable:</th>        <td>Winner</td>      <th>  No. Observations:  </th>  <td>   894</td> \n",
       "</tr>\n",
       "<tr>\n",
       "  <th>Model:</th>                  <td>GLM</td>       <th>  Df Residuals:      </th>  <td>   892</td> \n",
       "</tr>\n",
       "<tr>\n",
       "  <th>Model Family:</th>        <td>Binomial</td>     <th>  Df Model:          </th>  <td>     1</td> \n",
       "</tr>\n",
       "<tr>\n",
       "  <th>Link Function:</th>         <td>logit</td>      <th>  Scale:             </th> <td>  1.0000</td>\n",
       "</tr>\n",
       "<tr>\n",
       "  <th>Method:</th>                <td>IRLS</td>       <th>  Log-Likelihood:    </th> <td> -206.37</td>\n",
       "</tr>\n",
       "<tr>\n",
       "  <th>Date:</th>            <td>Wed, 20 Oct 2021</td> <th>  Deviance:          </th> <td>  412.75</td>\n",
       "</tr>\n",
       "<tr>\n",
       "  <th>Time:</th>                <td>10:02:22</td>     <th>  Pearson chi2:      </th>  <td>  580.</td> \n",
       "</tr>\n",
       "<tr>\n",
       "  <th>No. Iterations:</th>          <td>6</td>        <th>                     </th>     <td> </td>   \n",
       "</tr>\n",
       "<tr>\n",
       "  <th>Covariance Type:</th>     <td>nonrobust</td>    <th>                     </th>     <td> </td>   \n",
       "</tr>\n",
       "</table>\n",
       "<table class=\"simpletable\">\n",
       "<tr>\n",
       "         <td></td>           <th>coef</th>     <th>std err</th>      <th>z</th>      <th>P>|z|</th>  <th>[0.025</th>    <th>0.975]</th>  \n",
       "</tr>\n",
       "<tr>\n",
       "  <th>const</th>          <td>   -4.5028</td> <td>    0.314</td> <td>  -14.354</td> <td> 0.000</td> <td>   -5.118</td> <td>   -3.888</td>\n",
       "</tr>\n",
       "<tr>\n",
       "  <th>percent_raised</th> <td>    0.0890</td> <td>    0.006</td> <td>   15.651</td> <td> 0.000</td> <td>    0.078</td> <td>    0.100</td>\n",
       "</tr>\n",
       "</table>"
      ],
      "text/plain": [
       "<class 'statsmodels.iolib.summary.Summary'>\n",
       "\"\"\"\n",
       "                 Generalized Linear Model Regression Results                  \n",
       "==============================================================================\n",
       "Dep. Variable:                 Winner   No. Observations:                  894\n",
       "Model:                            GLM   Df Residuals:                      892\n",
       "Model Family:                Binomial   Df Model:                            1\n",
       "Link Function:                  logit   Scale:                          1.0000\n",
       "Method:                          IRLS   Log-Likelihood:                -206.37\n",
       "Date:                Wed, 20 Oct 2021   Deviance:                       412.75\n",
       "Time:                        10:02:22   Pearson chi2:                     580.\n",
       "No. Iterations:                     6                                         \n",
       "Covariance Type:            nonrobust                                         \n",
       "==================================================================================\n",
       "                     coef    std err          z      P>|z|      [0.025      0.975]\n",
       "----------------------------------------------------------------------------------\n",
       "const             -4.5028      0.314    -14.354      0.000      -5.118      -3.888\n",
       "percent_raised     0.0890      0.006     15.651      0.000       0.078       0.100\n",
       "==================================================================================\n",
       "\"\"\""
      ]
     },
     "execution_count": 22,
     "metadata": {},
     "output_type": "execute_result"
    }
   ],
   "source": [
    "funds_raised_logreg.summary()"
   ]
  },
  {
   "cell_type": "code",
   "execution_count": 24,
   "id": "00d4d765",
   "metadata": {},
   "outputs": [],
   "source": [
    "import numpy as np"
   ]
  },
  {
   "cell_type": "code",
   "execution_count": 25,
   "id": "3b7707a5",
   "metadata": {},
   "outputs": [
    {
     "name": "stdout",
     "output_type": "stream",
     "text": [
      "const    0.930886\n",
      "dtype: float64\n"
     ]
    }
   ],
   "source": [
    "print(np.exp(base_logreg.params))"
   ]
  },
  {
   "cell_type": "code",
   "execution_count": 26,
   "id": "2e6b3a41",
   "metadata": {},
   "outputs": [
    {
     "name": "stdout",
     "output_type": "stream",
     "text": [
      "const             0.011078\n",
      "percent_raised    1.093069\n",
      "dtype: float64\n"
     ]
    }
   ],
   "source": [
    "print(np.exp(funds_raised_logreg.params))"
   ]
  },
  {
   "cell_type": "code",
   "execution_count": 31,
   "id": "ad6d42ae",
   "metadata": {},
   "outputs": [
    {
     "data": {
      "text/plain": [
       "array([0.01107942, 0.01158611, 0.01211597, 0.01267006, 0.0132495 ])"
      ]
     },
     "execution_count": 31,
     "metadata": {},
     "output_type": "execute_result"
    }
   ],
   "source": [
    "x=np.linspace(start=election_results['percent_raised'].min(),\n",
    "            stop = election_results['percent_raised'].max(),\n",
    "            num = 200)\n",
    "np.exp(funds_raised_logreg.params['const'] + funds_raised_logreg.params['percent_raised']*x)[:5]"
   ]
  },
  {
   "cell_type": "code",
   "execution_count": 32,
   "id": "30792b22",
   "metadata": {},
   "outputs": [
    {
     "data": {
      "text/plain": [
       "array([0.01095801, 0.01145341, 0.01197093, 0.01251154, 0.01307624])"
      ]
     },
     "execution_count": 32,
     "metadata": {},
     "output_type": "execute_result"
    }
   ],
   "source": [
    "funds_raised_logreg.predict(sm.add_constant(x))[:5]"
   ]
  },
  {
   "cell_type": "code",
   "execution_count": 40,
   "id": "8ffb9ee3",
   "metadata": {},
   "outputs": [
    {
     "name": "stderr",
     "output_type": "stream",
     "text": [
      "*c* argument looks like a single numeric RGB or RGBA sequence, which should be avoided as value-mapping will have precedence in case its length matches with *x* & *y*.  Please use the *color* keyword-argument or provide a 2-D array with a single row if you intend to specify the same RGB or RGBA value for all points.\n"
     ]
    },
    {
     "data": {
      "image/png": "[encoded data removed]",
      "text/plain": [
       "<Figure size 432x288 with 1 Axes>"
      ]
     },
     "metadata": {},
     "output_type": "display_data"
    }
   ],
   "source": [
    "election_results.plot(kind='scatter', x= 'percent_raised', y='Winner')\n",
    "y=funds_raised_logreg.predict(sm.add_constant(x))\n",
    "plt.plot(x,y, label = \"percent_raised\")\n",
    "plt.legend();\n",
    "plt.title('Binary Logistic Regression w/1 Independent Variable Model Results');\n",
    "\n"
   ]
  },
  {
   "cell_type": "code",
   "execution_count": 41,
   "id": "b55d553e",
   "metadata": {},
   "outputs": [
    {
     "name": "stderr",
     "output_type": "stream",
     "text": [
      "C:\\Users\\U6033919\\Anaconda3\\envs\\geospatial\\lib\\site-packages\\statsmodels\\tsa\\tsatools.py:142: FutureWarning: In a future version of pandas all arguments of concat except for the argument 'objs' will be keyword-only\n",
      "  x = pd.concat(x[::order], 1)\n"
     ]
    }
   ],
   "source": [
    "spent_logreg = (sm.GLM(endog = election_results['Winner'],\n",
    "                 exog = sm.add_constant(election_results[['percent_spent']]),\n",
    "                 family=sm.families.Binomial())\n",
    "                 .fit()\n",
    "                 )"
   ]
  },
  {
   "cell_type": "code",
   "execution_count": 42,
   "id": "ff3c52a3",
   "metadata": {},
   "outputs": [
    {
     "data": {
      "text/html": [
       "<table class=\"simpletable\">\n",
       "<caption>Generalized Linear Model Regression Results</caption>\n",
       "<tr>\n",
       "  <th>Dep. Variable:</th>        <td>Winner</td>      <th>  No. Observations:  </th>  <td>   894</td> \n",
       "</tr>\n",
       "<tr>\n",
       "  <th>Model:</th>                  <td>GLM</td>       <th>  Df Residuals:      </th>  <td>   892</td> \n",
       "</tr>\n",
       "<tr>\n",
       "  <th>Model Family:</th>        <td>Binomial</td>     <th>  Df Model:          </th>  <td>     1</td> \n",
       "</tr>\n",
       "<tr>\n",
       "  <th>Link Function:</th>         <td>logit</td>      <th>  Scale:             </th> <td>  1.0000</td>\n",
       "</tr>\n",
       "<tr>\n",
       "  <th>Method:</th>                <td>IRLS</td>       <th>  Log-Likelihood:    </th> <td> -217.48</td>\n",
       "</tr>\n",
       "<tr>\n",
       "  <th>Date:</th>            <td>Wed, 20 Oct 2021</td> <th>  Deviance:          </th> <td>  434.95</td>\n",
       "</tr>\n",
       "<tr>\n",
       "  <th>Time:</th>                <td>10:36:22</td>     <th>  Pearson chi2:      </th>  <td>  615.</td> \n",
       "</tr>\n",
       "<tr>\n",
       "  <th>No. Iterations:</th>          <td>6</td>        <th>                     </th>     <td> </td>   \n",
       "</tr>\n",
       "<tr>\n",
       "  <th>Covariance Type:</th>     <td>nonrobust</td>    <th>                     </th>     <td> </td>   \n",
       "</tr>\n",
       "</table>\n",
       "<table class=\"simpletable\">\n",
       "<tr>\n",
       "        <td></td>           <th>coef</th>     <th>std err</th>      <th>z</th>      <th>P>|z|</th>  <th>[0.025</th>    <th>0.975]</th>  \n",
       "</tr>\n",
       "<tr>\n",
       "  <th>const</th>         <td>   -4.4779</td> <td>    0.310</td> <td>  -14.436</td> <td> 0.000</td> <td>   -5.086</td> <td>   -3.870</td>\n",
       "</tr>\n",
       "<tr>\n",
       "  <th>percent_spent</th> <td>    0.0886</td> <td>    0.006</td> <td>   15.667</td> <td> 0.000</td> <td>    0.078</td> <td>    0.100</td>\n",
       "</tr>\n",
       "</table>"
      ],
      "text/plain": [
       "<class 'statsmodels.iolib.summary.Summary'>\n",
       "\"\"\"\n",
       "                 Generalized Linear Model Regression Results                  \n",
       "==============================================================================\n",
       "Dep. Variable:                 Winner   No. Observations:                  894\n",
       "Model:                            GLM   Df Residuals:                      892\n",
       "Model Family:                Binomial   Df Model:                            1\n",
       "Link Function:                  logit   Scale:                          1.0000\n",
       "Method:                          IRLS   Log-Likelihood:                -217.48\n",
       "Date:                Wed, 20 Oct 2021   Deviance:                       434.95\n",
       "Time:                        10:36:22   Pearson chi2:                     615.\n",
       "No. Iterations:                     6                                         \n",
       "Covariance Type:            nonrobust                                         \n",
       "=================================================================================\n",
       "                    coef    std err          z      P>|z|      [0.025      0.975]\n",
       "---------------------------------------------------------------------------------\n",
       "const            -4.4779      0.310    -14.436      0.000      -5.086      -3.870\n",
       "percent_spent     0.0886      0.006     15.667      0.000       0.078       0.100\n",
       "=================================================================================\n",
       "\"\"\""
      ]
     },
     "execution_count": 42,
     "metadata": {},
     "output_type": "execute_result"
    }
   ],
   "source": [
    "spent_logreg.summary()"
   ]
  },
  {
   "cell_type": "code",
   "execution_count": 46,
   "id": "28ba6d45",
   "metadata": {},
   "outputs": [],
   "source": [
    "x_spent=np.linspace(start=election_results['percent_spent'].min(),\n",
    "            stop = election_results['percent_spent'].max(),\n",
    "            num = 200)\n"
   ]
  },
  {
   "cell_type": "code",
   "execution_count": 48,
   "id": "ed8e0ce6",
   "metadata": {},
   "outputs": [
    {
     "data": {
      "text/plain": [
       "array([0.01135672, 0.01187377, 0.01241436, 0.01297955, 0.01357048])"
      ]
     },
     "execution_count": 48,
     "metadata": {},
     "output_type": "execute_result"
    }
   ],
   "source": [
    "np.exp(spent_logreg.params['const'] + spent_logreg.params['percent_spent']*x_spent)[:5]"
   ]
  },
  {
   "cell_type": "code",
   "execution_count": 51,
   "id": "8d01a9c6",
   "metadata": {},
   "outputs": [
    {
     "data": {
      "image/png": "[encoded data removed]",
      "text/plain": [
       "<Figure size 1008x576 with 1 Axes>"
      ]
     },
     "metadata": {},
     "output_type": "display_data"
    }
   ],
   "source": [
    "y=funds_raised_logreg.predict(sm.add_constant(x))\n",
    "y_spent=spent_logreg.predict(sm.add_constant(x_spent))\n",
    "plt.figure(figsize=(14,8))\n",
    "plt.plot(x,y, label = \"percent_raised\", linewidth=6.0, linestyle='-.')\n",
    "plt.plot(x_spent,y_spent, label = \"percent_spent\", linewidth=4.0)\n",
    "plt.legend();"
   ]
  },
  {
   "cell_type": "code",
   "execution_count": 52,
   "id": "ca54b3dc",
   "metadata": {},
   "outputs": [],
   "source": [
    "from scipy.stats import binom"
   ]
  },
  {
   "cell_type": "code",
   "execution_count": null,
   "id": "0eb7fe03",
   "metadata": {},
   "outputs": [],
   "source": [
    "#prob of winning given the amount raised:"
   ]
  },
  {
   "cell_type": "code",
   "execution_count": 58,
   "id": "1799d4eb",
   "metadata": {},
   "outputs": [],
   "source": [
    "#n=len(election_results['Winner'])"
   ]
  },
  {
   "cell_type": "code",
   "execution_count": 59,
   "id": "5a4d137d",
   "metadata": {},
   "outputs": [],
   "source": [
    "p=np.exp(funds_raised_logreg.params)[1]/(1+np.exp(funds_raised_logreg.params)[1])"
   ]
  },
  {
   "cell_type": "code",
   "execution_count": 69,
   "id": "ed3d8270",
   "metadata": {},
   "outputs": [],
   "source": [
    "n=10"
   ]
  },
  {
   "cell_type": "code",
   "execution_count": 70,
   "id": "34bb2c75",
   "metadata": {},
   "outputs": [],
   "source": [
    "k=6"
   ]
  },
  {
   "cell_type": "code",
   "execution_count": 71,
   "id": "b3a1a33a",
   "metadata": {},
   "outputs": [
    {
     "data": {
      "image/png": "[encoded data removed]",
      "text/plain": [
       "<Figure size 720x360 with 1 Axes>"
      ]
     },
     "metadata": {},
     "output_type": "display_data"
    }
   ],
   "source": [
    "x = np.arange(start = 0, stop = 10, step = 1)\n",
    "y = binom.pmf(k, n, p)\n",
    "\n",
    "plt.figure(figsize = (10,5))\n",
    "plt.bar(x, y, edgecolor = 'black')\n",
    "plt.xticks(range(10))\n",
    "\n",
    "plt.title('Binomial Distribution');"
   ]
  },
  {
   "cell_type": "code",
   "execution_count": null,
   "id": "aaf716a7",
   "metadata": {},
   "outputs": [],
   "source": []
  }
 ],
 "metadata": {
  "kernelspec": {
   "display_name": "Python 3 (ipykernel)",
   "language": "python",
   "name": "python3"
  },
  "language_info": {
   "codemirror_mode": {
    "name": "ipython",
    "version": 3
   },
   "file_extension": ".py",
   "mimetype": "text/x-python",
   "name": "python",
   "nbconvert_exporter": "python",
   "pygments_lexer": "ipython3",
   "version": "3.8.5"
  }
 },
 "nbformat": 4,
 "nbformat_minor": 5
}
