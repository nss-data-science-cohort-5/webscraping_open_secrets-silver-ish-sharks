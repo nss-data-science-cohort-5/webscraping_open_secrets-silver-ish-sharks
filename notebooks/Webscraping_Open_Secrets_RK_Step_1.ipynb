{
 "cells": [
  {
   "cell_type": "markdown",
   "id": "5686f9c3",
   "metadata": {},
   "source": [
    "## An Analysis of Political Contributions During the 2020 House of Representatives Election:\n",
    "\n",
    "### WEB-SCRAPING Open Secrets FOR FUN AND PROFIT"
   ]
  },
  {
   "cell_type": "markdown",
   "id": "6b216b0a",
   "metadata": {},
   "source": [
    "### 1. In this part, you will obtain as much data as you can on the campaign contributions received by each candidate. This data is avaiable through the website https://www.opensecrets.org/. At the end of the project, your group will give a presentation of your findings."
   ]
  },
  {
   "cell_type": "markdown",
   "id": "fe522865",
   "metadata": {},
   "source": [
    "Start by scraping the data from the summary page for Tennessee's 2nd District, which is available at https://www.opensecrets.org/races/summary?cycle=2020&id=TN02&spec=N.\n",
    "\n",
    "The data that we want is contained in the \"Total Raised and Spent\" table.\n",
    "\n",
    "Make a DataFrame showing, for each candidate:\n",
    "\n",
    "- the candidate's name\n",
    "- the candidate's party\n",
    "- state\n",
    "- district number\n",
    "- whether the candidate was an incumbent\n",
    "- whether the candidate won the race\n",
    "- the total amount raised by that candidate (as a numeric variable)\n",
    "- the total amount spent by the candidate (as a numeric variable)"
   ]
  },
  {
   "cell_type": "code",
   "execution_count": 44,
   "id": "5e6dbacd",
   "metadata": {},
   "outputs": [],
   "source": [
    "from bs4 import BeautifulSoup as BS\n",
    "from IPython.core.display import HTML\n",
    "import pandas as pd\n",
    "import re\n",
    "import requests"
   ]
  },
  {
   "cell_type": "code",
   "execution_count": 47,
   "id": "801eb697",
   "metadata": {},
   "outputs": [],
   "source": [
    "D2_summary_url = 'https://www.opensecrets.org/races/summary?cycle=2020&id=TN02&spec=N'\n",
    "\n",
    "D2_sum_resp = requests.get(D2_summary_url)"
   ]
  },
  {
   "cell_type": "code",
   "execution_count": 48,
   "id": "132a2a6f",
   "metadata": {},
   "outputs": [
    {
     "data": {
      "text/plain": [
       "requests.models.Response"
      ]
     },
     "execution_count": 48,
     "metadata": {},
     "output_type": "execute_result"
    }
   ],
   "source": [
    "type(D2_sum_resp)"
   ]
  },
  {
   "cell_type": "code",
   "execution_count": 49,
   "id": "6b0864f7",
   "metadata": {},
   "outputs": [
    {
     "data": {
      "text/plain": [
       "200"
      ]
     },
     "execution_count": 49,
     "metadata": {},
     "output_type": "execute_result"
    }
   ],
   "source": [
    "D2_sum_resp.status_code"
   ]
  },
  {
   "cell_type": "code",
   "execution_count": 51,
   "id": "a03416ae",
   "metadata": {},
   "outputs": [],
   "source": [
    "D2_sum_soup = BS(D2_sum_resp.text)"
   ]
  },
  {
   "cell_type": "code",
   "execution_count": 39,
   "id": "0a8b2134",
   "metadata": {},
   "outputs": [],
   "source": [
    "# print(soup.prettify())   # DO NOT PRINT ALL THIS MESS"
   ]
  },
  {
   "cell_type": "code",
   "execution_count": 52,
   "id": "fa88b69a",
   "metadata": {},
   "outputs": [
    {
     "data": {
      "text/plain": [
       "<title>Tennessee District 02 2020 Race • OpenSecrets</title>"
      ]
     },
     "execution_count": 52,
     "metadata": {},
     "output_type": "execute_result"
    }
   ],
   "source": [
    "D2_sum_soup.find('title')"
   ]
  },
  {
   "cell_type": "code",
   "execution_count": 53,
   "id": "98e24066",
   "metadata": {},
   "outputs": [
    {
     "data": {
      "text/plain": [
       "[<table class=\"DataTable\">\n",
       " <thead>\n",
       " <tr>\n",
       " <th>Candidate</th>\n",
       " <th class=\"number\">Raised</th>\n",
       " <th class=\"number\">Spent</th>\n",
       " <th class=\"number\">Cash on Hand</th>\n",
       " <th>Last Report</th>\n",
       " </tr>\n",
       " </thead>\n",
       " <tbody>\n",
       " <tr>\n",
       " <td class=\"races-category red\" nowrap=\"\">\n",
       " <a href=\"/members-of-congress/tim-burchett/summary?cid=N00041594\">Tim Burchett (R)</a>\n",
       "  • <i>Incumbent</i> • <span class=\"winner\"><i>Winner</i></span> </td>\n",
       " <td class=\"number\">$1,336,276</td>\n",
       " <td class=\"number\">$878,488</td>\n",
       " <td class=\"number\">$593,678</td>\n",
       " <td>12/31/2020</td>\n",
       " </tr>\n",
       " <tr>\n",
       " <td class=\"races-category blue\" nowrap=\"\">\n",
       " \t\t\t\t\t\t\t\tRenee Hoyos (D)\n",
       " \t\t\t\t\t\t</td>\n",
       " <td class=\"number\">$812,784</td>\n",
       " <td class=\"number\">$816,793</td>\n",
       " <td class=\"number\">$210</td>\n",
       " <td>12/31/2020</td>\n",
       " </tr>\n",
       " </tbody>\n",
       " </table>,\n",
       " <table class=\"DataTable\">\n",
       " <thead>\n",
       " <tr>\n",
       " <th>Candidate</th>\n",
       " <th class=\"number\">Supported</th>\n",
       " <th class=\"number\">Opposed</th>\n",
       " <th class=\"number\">All 2020 Total<br/>\n",
       " \t\t\t\t\t\t\t(Supported and Opposed)</th>\n",
       " </tr>\n",
       " </thead>\n",
       " <tbody>\n",
       " <tr>\n",
       " <td class=\"races-category red\" nowrap=\"\">\n",
       " \t\t\t\t\t\t\t\tBurchett, Tim (R)\n",
       " \t\t\t\t\t\t</td>\n",
       " <td class=\"number\">$0</td>\n",
       " <td class=\"number\">$2,474</td>\n",
       " <td class=\"number\">$2,474</td>\n",
       " </tr>\n",
       " <tr>\n",
       " <td class=\"races-category blue\" nowrap=\"\">\n",
       " \t\t\t\t\t\t\t\tHoyos, Renee (D)\n",
       " \t\t\t\t\t\t</td>\n",
       " <td class=\"number\">$2,179</td>\n",
       " <td class=\"number\">$0</td>\n",
       " <td class=\"number\">$2,179</td>\n",
       " </tr>\n",
       " </tbody>\n",
       " <tfoot>\n",
       " <tr>\n",
       " <td colspan=\"4\"><a href=\"/races/outside-spending?cycle=2020&amp;id=TN02\">See more on Outside Spending</a></td>\n",
       " </tr>\n",
       " </tfoot>\n",
       " </table>]"
      ]
     },
     "execution_count": 53,
     "metadata": {},
     "output_type": "execute_result"
    }
   ],
   "source": [
    "D2_sum_soup.findAll('table')"
   ]
  },
  {
   "cell_type": "code",
   "execution_count": 54,
   "id": "a7b4e8f9",
   "metadata": {},
   "outputs": [
    {
     "data": {
      "text/html": [
       "<table class=\"DataTable\">\n",
       "<thead>\n",
       "<tr>\n",
       "<th>Candidate</th>\n",
       "<th class=\"number\">Raised</th>\n",
       "<th class=\"number\">Spent</th>\n",
       "<th class=\"number\">Cash on Hand</th>\n",
       "<th>Last Report</th>\n",
       "</tr>\n",
       "</thead>\n",
       "<tbody>\n",
       "<tr>\n",
       "<td class=\"races-category red\" nowrap=\"\">\n",
       "<a href=\"/members-of-congress/tim-burchett/summary?cid=N00041594\">Tim Burchett (R)</a>\n",
       " • <i>Incumbent</i> • <span class=\"winner\"><i>Winner</i></span> </td>\n",
       "<td class=\"number\">$1,336,276</td>\n",
       "<td class=\"number\">$878,488</td>\n",
       "<td class=\"number\">$593,678</td>\n",
       "<td>12/31/2020</td>\n",
       "</tr>\n",
       "<tr>\n",
       "<td class=\"races-category blue\" nowrap=\"\">\n",
       "\t\t\t\t\t\t\t\tRenee Hoyos (D)\n",
       "\t\t\t\t\t\t</td>\n",
       "<td class=\"number\">$812,784</td>\n",
       "<td class=\"number\">$816,793</td>\n",
       "<td class=\"number\">$210</td>\n",
       "<td>12/31/2020</td>\n",
       "</tr>\n",
       "</tbody>\n",
       "</table>"
      ],
      "text/plain": [
       "<IPython.core.display.HTML object>"
      ]
     },
     "execution_count": 54,
     "metadata": {},
     "output_type": "execute_result"
    }
   ],
   "source": [
    "D2_sum_table_html = str(D2_sum_soup.find('table', \n",
    "                                         attrs={'class' : 'DataTable'}))\n",
    "\n",
    "HTML(D2_sum_table_html)"
   ]
  },
  {
   "cell_type": "code",
   "execution_count": 55,
   "id": "9579770b",
   "metadata": {},
   "outputs": [],
   "source": [
    "D2_summary = pd.read_html(str(D2_sum_soup.find('table', \n",
    "                                               attrs={'class' : 'DataTable'})))[0]"
   ]
  },
  {
   "cell_type": "code",
   "execution_count": 56,
   "id": "faea393c",
   "metadata": {},
   "outputs": [
    {
     "data": {
      "text/html": [
       "<div>\n",
       "<style scoped>\n",
       "    .dataframe tbody tr th:only-of-type {\n",
       "        vertical-align: middle;\n",
       "    }\n",
       "\n",
       "    .dataframe tbody tr th {\n",
       "        vertical-align: top;\n",
       "    }\n",
       "\n",
       "    .dataframe thead th {\n",
       "        text-align: right;\n",
       "    }\n",
       "</style>\n",
       "<table border=\"1\" class=\"dataframe\">\n",
       "  <thead>\n",
       "    <tr style=\"text-align: right;\">\n",
       "      <th></th>\n",
       "      <th>Candidate</th>\n",
       "      <th>Raised</th>\n",
       "      <th>Spent</th>\n",
       "      <th>Cash on Hand</th>\n",
       "      <th>Last Report</th>\n",
       "    </tr>\n",
       "  </thead>\n",
       "  <tbody>\n",
       "    <tr>\n",
       "      <th>0</th>\n",
       "      <td>Tim Burchett (R)  • Incumbent • Winner</td>\n",
       "      <td>$1,336,276</td>\n",
       "      <td>$878,488</td>\n",
       "      <td>$593,678</td>\n",
       "      <td>12/31/2020</td>\n",
       "    </tr>\n",
       "    <tr>\n",
       "      <th>1</th>\n",
       "      <td>Renee Hoyos (D)</td>\n",
       "      <td>$812,784</td>\n",
       "      <td>$816,793</td>\n",
       "      <td>$210</td>\n",
       "      <td>12/31/2020</td>\n",
       "    </tr>\n",
       "  </tbody>\n",
       "</table>\n",
       "</div>"
      ],
      "text/plain": [
       "                                Candidate      Raised     Spent Cash on Hand  \\\n",
       "0  Tim Burchett (R)  • Incumbent • Winner  $1,336,276  $878,488     $593,678   \n",
       "1                         Renee Hoyos (D)    $812,784  $816,793         $210   \n",
       "\n",
       "  Last Report  \n",
       "0  12/31/2020  \n",
       "1  12/31/2020  "
      ]
     },
     "execution_count": 56,
     "metadata": {},
     "output_type": "execute_result"
    }
   ],
   "source": [
    "D2_summary"
   ]
  },
  {
   "cell_type": "code",
   "execution_count": 28,
   "id": "198b6f8d",
   "metadata": {},
   "outputs": [
    {
     "data": {
      "text/plain": [
       "re.Pattern"
      ]
     },
     "execution_count": 28,
     "metadata": {},
     "output_type": "execute_result"
    }
   ],
   "source": [
    "# soup.findAll('a class=\"Footer-col-link\" href=\"/donate/\"')\n",
    "# print(type(images))\n",
    "# images"
   ]
  },
  {
   "cell_type": "code",
   "execution_count": 63,
   "id": "05d9490e",
   "metadata": {},
   "outputs": [],
   "source": [
    "D2_cand_detail_URL = 'https://www.opensecrets.org/races/candidates?cycle=2020&id=TN02&spec=N'"
   ]
  },
  {
   "cell_type": "code",
   "execution_count": 64,
   "id": "43424818",
   "metadata": {},
   "outputs": [],
   "source": [
    "D2_candidate_resp = requests.get(D2_cand_detail_URL)"
   ]
  },
  {
   "cell_type": "code",
   "execution_count": 65,
   "id": "fd4409d3",
   "metadata": {},
   "outputs": [
    {
     "data": {
      "text/plain": [
       "200"
      ]
     },
     "execution_count": 65,
     "metadata": {},
     "output_type": "execute_result"
    }
   ],
   "source": [
    "D2_candidate_resp.status_code"
   ]
  },
  {
   "cell_type": "code",
   "execution_count": 66,
   "id": "f0819b6c",
   "metadata": {},
   "outputs": [],
   "source": [
    "D2_cand_soup = BS(D2_candidate_resp.text)"
   ]
  },
  {
   "cell_type": "code",
   "execution_count": 67,
   "id": "69aa8957",
   "metadata": {},
   "outputs": [
    {
     "data": {
      "text/plain": [
       "[<table border=\"0\" cellpadding=\"1\" cellspacing=\"0\" class=\"Members--table\">\n",
       " <tr>\n",
       " <td>Raised:</td>\n",
       " <td class=\"Members--number\">$1,336,276</td>\n",
       " <td width=\"33%\">\n",
       " <div class=\"Members--bar-wrapper\">\n",
       " <div class=\"Members--bar Members--bar-indivs\" style=\"width:100.0%;\"></div>\n",
       " </div>\n",
       " </td>\n",
       " </tr>\n",
       " <tr>\n",
       " <td>Spent:</td>\n",
       " <td class=\"Members--number\">$878,488</td>\n",
       " <td width=\"33%\">\n",
       " <div class=\"Members--bar-wrapper\">\n",
       " <div class=\"Members--bar Members--bar-indivs\" style=\"width:65.74149310125549%;\"></div>\n",
       " </div>\n",
       " </td>\n",
       " </tr>\n",
       " <tr>\n",
       " <td>Cash on Hand:</td>\n",
       " <td class=\"Members--number\">$593,678</td>\n",
       " <td width=\"33%\">\n",
       " <div class=\"Members--bar-wrapper\">\n",
       " <div class=\"Members--bar Members--bar-indivs\" style=\"width:44.4277852082551%;\"></div>\n",
       " </div>\n",
       " </td>\n",
       " </tr>\n",
       " </table>,\n",
       " <table>\n",
       " <thead>\n",
       " <tr>\n",
       " <th scope=\"col\">Type of Contribution</th>\n",
       " <th class=\"number\" scope=\"col\">Amount</th>\n",
       " <th class=\"number\" scope=\"col\">Percentage</th>\n",
       " </tr>\n",
       " </thead>\n",
       " <tbody>\n",
       " <tr>\n",
       " <td>Small Individual Contributions (≤ $200)</td>\n",
       " <td class=\"number\">$343,014</td>\n",
       " <td class=\"number\">25.67%</td>\n",
       " </tr>\n",
       " <tr>\n",
       " <td>Large Individual Contributions</td>\n",
       " <td class=\"number\">$729,831</td>\n",
       " <td class=\"number\">54.62%</td>\n",
       " </tr>\n",
       " <tr>\n",
       " <td>PAC Contributions*</td>\n",
       " <td class=\"number\">$269,535</td>\n",
       " <td class=\"number\">20.17%</td>\n",
       " </tr>\n",
       " <tr>\n",
       " <td>Candidate self-financing</td>\n",
       " <td class=\"number\">$0</td>\n",
       " <td class=\"number\">0.00%</td>\n",
       " </tr>\n",
       " <tr>\n",
       " <td>Other</td>\n",
       " <td class=\"number\">-$6,105</td>\n",
       " <td class=\"number\">-0.46%</td>\n",
       " </tr>\n",
       " </tbody>\n",
       " </table>,\n",
       " <table>\n",
       " <thead>\n",
       " <tr>\n",
       " <th scope=\"col\">Type of Disclosure</th>\n",
       " <th class=\"number\" scope=\"col\">Amount</th>\n",
       " <th class=\"number\" scope=\"col\">Percentage</th>\n",
       " </tr>\n",
       " </thead>\n",
       " <tbody>\n",
       " <tr>\n",
       " <td nowrap=\"\">Full Disclosure</td>\n",
       " <td class=\"number\">$708,346</td>\n",
       " <td class=\"number\">99.09%</td>\n",
       " </tr>\n",
       " <tr>\n",
       " <td nowrap=\"\">Incomplete Disclosure</td>\n",
       " <td class=\"number\">$5,250</td>\n",
       " <td class=\"number\">0.73%</td>\n",
       " </tr>\n",
       " <tr>\n",
       " <td nowrap=\"\">No Disclosure</td>\n",
       " <td class=\"number\">$1,250</td>\n",
       " <td class=\"number\">0.17%</td>\n",
       " </tr>\n",
       " </tbody>\n",
       " </table>,\n",
       " <table border=\"0\" cellpadding=\"1\" cellspacing=\"0\" class=\"Members--table\">\n",
       " <tr>\n",
       " <td>Raised:</td>\n",
       " <td class=\"Members--number\">$812,784</td>\n",
       " <td width=\"33%\">\n",
       " <div class=\"Members--bar-wrapper\">\n",
       " <div class=\"Members--bar Members--bar-indivs\" style=\"width:60.82456109826134%;\"></div>\n",
       " </div>\n",
       " </td>\n",
       " </tr>\n",
       " <tr>\n",
       " <td>Spent:</td>\n",
       " <td class=\"Members--number\">$816,793</td>\n",
       " <td width=\"33%\">\n",
       " <div class=\"Members--bar-wrapper\">\n",
       " <div class=\"Members--bar Members--bar-indivs\" style=\"width:61.1245957280898%;\"></div>\n",
       " </div>\n",
       " </td>\n",
       " </tr>\n",
       " <tr>\n",
       " <td>Cash on Hand:</td>\n",
       " <td class=\"Members--number\">$210</td>\n",
       " <td width=\"33%\">\n",
       " <div class=\"Members--bar-wrapper\">\n",
       " <div class=\"Members--bar Members--bar-indivs\" style=\"width:0.01570184896343438%;\"></div>\n",
       " </div>\n",
       " </td>\n",
       " </tr>\n",
       " </table>,\n",
       " <table>\n",
       " <thead>\n",
       " <tr>\n",
       " <th scope=\"col\">Type of Contribution</th>\n",
       " <th class=\"number\" scope=\"col\">Amount</th>\n",
       " <th class=\"number\" scope=\"col\">Percentage</th>\n",
       " </tr>\n",
       " </thead>\n",
       " <tbody>\n",
       " <tr>\n",
       " <td>Small Individual Contributions (≤ $200)</td>\n",
       " <td class=\"number\">$0</td>\n",
       " <td class=\"number\">0.00%</td>\n",
       " </tr>\n",
       " <tr>\n",
       " <td>Large Individual Contributions</td>\n",
       " <td class=\"number\">$807,459</td>\n",
       " <td class=\"number\">99.34%</td>\n",
       " </tr>\n",
       " <tr>\n",
       " <td>PAC Contributions*</td>\n",
       " <td class=\"number\">$3,100</td>\n",
       " <td class=\"number\">0.38%</td>\n",
       " </tr>\n",
       " <tr>\n",
       " <td>Candidate self-financing</td>\n",
       " <td class=\"number\">$0</td>\n",
       " <td class=\"number\">0.00%</td>\n",
       " </tr>\n",
       " <tr>\n",
       " <td>Other</td>\n",
       " <td class=\"number\">$2,225</td>\n",
       " <td class=\"number\">0.27%</td>\n",
       " </tr>\n",
       " </tbody>\n",
       " </table>,\n",
       " <table>\n",
       " <thead>\n",
       " <tr>\n",
       " <th scope=\"col\">Type of Disclosure</th>\n",
       " <th class=\"number\" scope=\"col\">Amount</th>\n",
       " <th class=\"number\" scope=\"col\">Percentage</th>\n",
       " </tr>\n",
       " </thead>\n",
       " <tbody>\n",
       " <tr>\n",
       " <td nowrap=\"\">Full Disclosure</td>\n",
       " <td class=\"number\">$621,145</td>\n",
       " <td class=\"number\">92.72%</td>\n",
       " </tr>\n",
       " <tr>\n",
       " <td nowrap=\"\">Incomplete Disclosure</td>\n",
       " <td class=\"number\">$3,710</td>\n",
       " <td class=\"number\">0.55%</td>\n",
       " </tr>\n",
       " <tr>\n",
       " <td nowrap=\"\">No Disclosure</td>\n",
       " <td class=\"number\">$45,081</td>\n",
       " <td class=\"number\">6.73%</td>\n",
       " </tr>\n",
       " </tbody>\n",
       " </table>]"
      ]
     },
     "execution_count": 67,
     "metadata": {},
     "output_type": "execute_result"
    }
   ],
   "source": [
    "D2_cand_soup.findAll('table')"
   ]
  },
  {
   "cell_type": "code",
   "execution_count": 68,
   "id": "0a77b627",
   "metadata": {},
   "outputs": [
    {
     "data": {
      "text/html": [
       "[<table border=\"0\" cellpadding=\"1\" cellspacing=\"0\" class=\"Members--table\">\n",
       "<tr>\n",
       "<td>Raised:</td>\n",
       "<td class=\"Members--number\">$1,336,276</td>\n",
       "<td width=\"33%\">\n",
       "<div class=\"Members--bar-wrapper\">\n",
       "<div class=\"Members--bar Members--bar-indivs\" style=\"width:100.0%;\"></div>\n",
       "</div>\n",
       "</td>\n",
       "</tr>\n",
       "<tr>\n",
       "<td>Spent:</td>\n",
       "<td class=\"Members--number\">$878,488</td>\n",
       "<td width=\"33%\">\n",
       "<div class=\"Members--bar-wrapper\">\n",
       "<div class=\"Members--bar Members--bar-indivs\" style=\"width:65.74149310125549%;\"></div>\n",
       "</div>\n",
       "</td>\n",
       "</tr>\n",
       "<tr>\n",
       "<td>Cash on Hand:</td>\n",
       "<td class=\"Members--number\">$593,678</td>\n",
       "<td width=\"33%\">\n",
       "<div class=\"Members--bar-wrapper\">\n",
       "<div class=\"Members--bar Members--bar-indivs\" style=\"width:44.4277852082551%;\"></div>\n",
       "</div>\n",
       "</td>\n",
       "</tr>\n",
       "</table>, <table>\n",
       "<thead>\n",
       "<tr>\n",
       "<th scope=\"col\">Type of Contribution</th>\n",
       "<th class=\"number\" scope=\"col\">Amount</th>\n",
       "<th class=\"number\" scope=\"col\">Percentage</th>\n",
       "</tr>\n",
       "</thead>\n",
       "<tbody>\n",
       "<tr>\n",
       "<td>Small Individual Contributions (≤ $200)</td>\n",
       "<td class=\"number\">$343,014</td>\n",
       "<td class=\"number\">25.67%</td>\n",
       "</tr>\n",
       "<tr>\n",
       "<td>Large Individual Contributions</td>\n",
       "<td class=\"number\">$729,831</td>\n",
       "<td class=\"number\">54.62%</td>\n",
       "</tr>\n",
       "<tr>\n",
       "<td>PAC Contributions*</td>\n",
       "<td class=\"number\">$269,535</td>\n",
       "<td class=\"number\">20.17%</td>\n",
       "</tr>\n",
       "<tr>\n",
       "<td>Candidate self-financing</td>\n",
       "<td class=\"number\">$0</td>\n",
       "<td class=\"number\">0.00%</td>\n",
       "</tr>\n",
       "<tr>\n",
       "<td>Other</td>\n",
       "<td class=\"number\">-$6,105</td>\n",
       "<td class=\"number\">-0.46%</td>\n",
       "</tr>\n",
       "</tbody>\n",
       "</table>, <table>\n",
       "<thead>\n",
       "<tr>\n",
       "<th scope=\"col\">Type of Disclosure</th>\n",
       "<th class=\"number\" scope=\"col\">Amount</th>\n",
       "<th class=\"number\" scope=\"col\">Percentage</th>\n",
       "</tr>\n",
       "</thead>\n",
       "<tbody>\n",
       "<tr>\n",
       "<td nowrap=\"\">Full Disclosure</td>\n",
       "<td class=\"number\">$708,346</td>\n",
       "<td class=\"number\">99.09%</td>\n",
       "</tr>\n",
       "<tr>\n",
       "<td nowrap=\"\">Incomplete Disclosure</td>\n",
       "<td class=\"number\">$5,250</td>\n",
       "<td class=\"number\">0.73%</td>\n",
       "</tr>\n",
       "<tr>\n",
       "<td nowrap=\"\">No Disclosure</td>\n",
       "<td class=\"number\">$1,250</td>\n",
       "<td class=\"number\">0.17%</td>\n",
       "</tr>\n",
       "</tbody>\n",
       "</table>, <table border=\"0\" cellpadding=\"1\" cellspacing=\"0\" class=\"Members--table\">\n",
       "<tr>\n",
       "<td>Raised:</td>\n",
       "<td class=\"Members--number\">$812,784</td>\n",
       "<td width=\"33%\">\n",
       "<div class=\"Members--bar-wrapper\">\n",
       "<div class=\"Members--bar Members--bar-indivs\" style=\"width:60.82456109826134%;\"></div>\n",
       "</div>\n",
       "</td>\n",
       "</tr>\n",
       "<tr>\n",
       "<td>Spent:</td>\n",
       "<td class=\"Members--number\">$816,793</td>\n",
       "<td width=\"33%\">\n",
       "<div class=\"Members--bar-wrapper\">\n",
       "<div class=\"Members--bar Members--bar-indivs\" style=\"width:61.1245957280898%;\"></div>\n",
       "</div>\n",
       "</td>\n",
       "</tr>\n",
       "<tr>\n",
       "<td>Cash on Hand:</td>\n",
       "<td class=\"Members--number\">$210</td>\n",
       "<td width=\"33%\">\n",
       "<div class=\"Members--bar-wrapper\">\n",
       "<div class=\"Members--bar Members--bar-indivs\" style=\"width:0.01570184896343438%;\"></div>\n",
       "</div>\n",
       "</td>\n",
       "</tr>\n",
       "</table>, <table>\n",
       "<thead>\n",
       "<tr>\n",
       "<th scope=\"col\">Type of Contribution</th>\n",
       "<th class=\"number\" scope=\"col\">Amount</th>\n",
       "<th class=\"number\" scope=\"col\">Percentage</th>\n",
       "</tr>\n",
       "</thead>\n",
       "<tbody>\n",
       "<tr>\n",
       "<td>Small Individual Contributions (≤ $200)</td>\n",
       "<td class=\"number\">$0</td>\n",
       "<td class=\"number\">0.00%</td>\n",
       "</tr>\n",
       "<tr>\n",
       "<td>Large Individual Contributions</td>\n",
       "<td class=\"number\">$807,459</td>\n",
       "<td class=\"number\">99.34%</td>\n",
       "</tr>\n",
       "<tr>\n",
       "<td>PAC Contributions*</td>\n",
       "<td class=\"number\">$3,100</td>\n",
       "<td class=\"number\">0.38%</td>\n",
       "</tr>\n",
       "<tr>\n",
       "<td>Candidate self-financing</td>\n",
       "<td class=\"number\">$0</td>\n",
       "<td class=\"number\">0.00%</td>\n",
       "</tr>\n",
       "<tr>\n",
       "<td>Other</td>\n",
       "<td class=\"number\">$2,225</td>\n",
       "<td class=\"number\">0.27%</td>\n",
       "</tr>\n",
       "</tbody>\n",
       "</table>, <table>\n",
       "<thead>\n",
       "<tr>\n",
       "<th scope=\"col\">Type of Disclosure</th>\n",
       "<th class=\"number\" scope=\"col\">Amount</th>\n",
       "<th class=\"number\" scope=\"col\">Percentage</th>\n",
       "</tr>\n",
       "</thead>\n",
       "<tbody>\n",
       "<tr>\n",
       "<td nowrap=\"\">Full Disclosure</td>\n",
       "<td class=\"number\">$621,145</td>\n",
       "<td class=\"number\">92.72%</td>\n",
       "</tr>\n",
       "<tr>\n",
       "<td nowrap=\"\">Incomplete Disclosure</td>\n",
       "<td class=\"number\">$3,710</td>\n",
       "<td class=\"number\">0.55%</td>\n",
       "</tr>\n",
       "<tr>\n",
       "<td nowrap=\"\">No Disclosure</td>\n",
       "<td class=\"number\">$45,081</td>\n",
       "<td class=\"number\">6.73%</td>\n",
       "</tr>\n",
       "</tbody>\n",
       "</table>]"
      ],
      "text/plain": [
       "<IPython.core.display.HTML object>"
      ]
     },
     "execution_count": 68,
     "metadata": {},
     "output_type": "execute_result"
    }
   ],
   "source": [
    "D2_cand_table_html = str(D2_cand_soup.findAll('table'))\n",
    "\n",
    "HTML(D2_cand_table_html)"
   ]
  },
  {
   "cell_type": "code",
   "execution_count": 69,
   "id": "d2bd749f",
   "metadata": {},
   "outputs": [],
   "source": [
    "D2_cand_details = pd.read_html(str(D2_cand_soup.findAll('table')))"
   ]
  },
  {
   "cell_type": "code",
   "execution_count": 70,
   "id": "f320e27f",
   "metadata": {},
   "outputs": [
    {
     "data": {
      "text/plain": [
       "list"
      ]
     },
     "execution_count": 70,
     "metadata": {},
     "output_type": "execute_result"
    }
   ],
   "source": [
    "type(D2_cand_details)"
   ]
  },
  {
   "cell_type": "code",
   "execution_count": null,
   "id": "17fdcc5e",
   "metadata": {},
   "outputs": [],
   "source": [
    "# NOW WOULD BE A GREAT TIME TO SLICE INDEXES OF COLUMNS AND MAKE A DATAFRAME\n",
    "# THAT IS A LIST OF LISTS, THEN JOIN IT TO CANDIDATE NAMES"
   ]
  },
  {
   "cell_type": "code",
   "execution_count": 71,
   "id": "8297c1d2",
   "metadata": {},
   "outputs": [],
   "source": [
    "D2_incumbent_url = 'https://www.opensecrets.org/members-of-congress/tim-burchett/summary?cid=N00041594'\n",
    "\n",
    "D2_incumb_resp = requests.get(D2_incumbent_url)"
   ]
  },
  {
   "cell_type": "code",
   "execution_count": 72,
   "id": "5597d454",
   "metadata": {},
   "outputs": [],
   "source": [
    "D2_incumb_soup = BS(D2_incumb_resp.text)"
   ]
  },
  {
   "cell_type": "code",
   "execution_count": null,
   "id": "8c07f9dc",
   "metadata": {},
   "outputs": [],
   "source": []
  },
  {
   "cell_type": "code",
   "execution_count": null,
   "id": "77a21687",
   "metadata": {},
   "outputs": [],
   "source": []
  },
  {
   "cell_type": "code",
   "execution_count": null,
   "id": "5bac6505",
   "metadata": {},
   "outputs": [],
   "source": []
  },
  {
   "cell_type": "code",
   "execution_count": null,
   "id": "ccd88b09",
   "metadata": {},
   "outputs": [],
   "source": []
  },
  {
   "cell_type": "code",
   "execution_count": null,
   "id": "db865272",
   "metadata": {},
   "outputs": [],
   "source": []
  },
  {
   "cell_type": "code",
   "execution_count": null,
   "id": "f47c556c",
   "metadata": {},
   "outputs": [],
   "source": []
  },
  {
   "cell_type": "markdown",
   "id": "62dbfcb9",
   "metadata": {},
   "source": [
    "### 2. Once you have working code for Tennessee's 2nd District, expand on your code to capture all of Tennessee's districts."
   ]
  },
  {
   "cell_type": "code",
   "execution_count": null,
   "id": "dbd09801",
   "metadata": {},
   "outputs": [],
   "source": [
    "# LATER, FOR OTHER DISTRICTS: USE LIST COMPRHENSION\n",
    "\n",
    "# district_srcs = [x.get('src') for x in districts]"
   ]
  },
  {
   "cell_type": "markdown",
   "id": "450d6671",
   "metadata": {},
   "source": [
    "### 3. Once you have working code for all of Tennessee's districts, expand on it to capture all states and districts. The number of representatives each state has can be found in a table on this page: https://www.britannica.com/topic/United-States-House-of-Representatives-Seats-by-State-1787120"
   ]
  },
  {
   "cell_type": "code",
   "execution_count": null,
   "id": "a11e6b30",
   "metadata": {},
   "outputs": [],
   "source": []
  },
  {
   "cell_type": "markdown",
   "id": "abd29b0c",
   "metadata": {},
   "source": [
    "### 4. Using your scraped data, investigates different relationships between candidates and the amount of money they raised. Here are some suggestions to get you started, but feel free to pose you own questions or do additional exploration:\n",
    "\n",
    "### 4a. How often does the candidate who raised more money win a race?"
   ]
  },
  {
   "cell_type": "code",
   "execution_count": null,
   "id": "ad89a3c3",
   "metadata": {},
   "outputs": [],
   "source": []
  },
  {
   "cell_type": "markdown",
   "id": "9fdcb8c4",
   "metadata": {},
   "source": [
    "### 4b. How often does the candidate who spent more money win a race?"
   ]
  },
  {
   "cell_type": "code",
   "execution_count": null,
   "id": "eaf8f722",
   "metadata": {},
   "outputs": [],
   "source": []
  },
  {
   "cell_type": "markdown",
   "id": "34d4dd1d",
   "metadata": {},
   "source": [
    "### 4c. Does the difference between either money raised or money spent seem to influence the likelihood of a candidate winning a race?"
   ]
  },
  {
   "cell_type": "code",
   "execution_count": null,
   "id": "4e175ada",
   "metadata": {},
   "outputs": [],
   "source": []
  },
  {
   "cell_type": "markdown",
   "id": "c511262e",
   "metadata": {},
   "source": [
    "### 4d. How often does the incumbent candidate win a race?"
   ]
  },
  {
   "cell_type": "code",
   "execution_count": null,
   "id": "53417025",
   "metadata": {},
   "outputs": [],
   "source": []
  },
  {
   "cell_type": "markdown",
   "id": "bbe20d1f",
   "metadata": {},
   "source": [
    "### 4e. Can you detect any relationship between amount of money raised and the incumbent status of a candidate?"
   ]
  }
 ],
 "metadata": {
  "kernelspec": {
   "display_name": "Python 3",
   "language": "python",
   "name": "python3"
  },
  "language_info": {
   "codemirror_mode": {
    "name": "ipython",
    "version": 3
   },
   "file_extension": ".py",
   "mimetype": "text/x-python",
   "name": "python",
   "nbconvert_exporter": "python",
   "pygments_lexer": "ipython3",
   "version": "3.8.8"
  }
 },
 "nbformat": 4,
 "nbformat_minor": 5
}
