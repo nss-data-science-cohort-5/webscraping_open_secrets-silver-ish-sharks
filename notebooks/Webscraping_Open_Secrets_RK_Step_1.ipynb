{
 "cells": [
  {
   "cell_type": "markdown",
   "id": "a3bc0e22",
   "metadata": {},
   "source": [
    "## An Analysis of Political Contributions During the 2020 House of Representatives Election:\n",
    "\n",
    "### WEB-SCRAPING Open Secrets FOR FUN AND PROFIT"
   ]
  },
  {
   "cell_type": "markdown",
   "id": "26e6abf5",
   "metadata": {},
   "source": [
    "### 1. In this part, you will obtain as much data as you can on the campaign contributions received by each candidate. This data is avaiable through the website https://www.opensecrets.org/. At the end of the project, your group will give a presentation of your findings."
   ]
  },
  {
   "cell_type": "markdown",
   "id": "30708a8f",
   "metadata": {},
   "source": [
    "Start by scraping the data from the summary page for Tennessee's 2nd District, which is available at https://www.opensecrets.org/races/summary?cycle=2020&id=TN02&spec=N.\n",
    "\n",
    "The data that we want is contained in the \"Total Raised and Spent\" table.\n",
    "\n",
    "Make a DataFrame showing, for each candidate:\n",
    "\n",
    "- the candidate's name\n",
    "- the candidate's party\n",
    "- state\n",
    "- district number\n",
    "- whether the candidate was an incumbent\n",
    "- whether the candidate won the race\n",
    "- the total amount raised by that candidate (as a numeric variable)\n",
    "- the total amount spent by the candidate (as a numeric variable)"
   ]
  },
  {
   "cell_type": "code",
   "execution_count": 38,
   "id": "90c6b1b1",
   "metadata": {},
   "outputs": [],
   "source": [
    "from bs4 import BeautifulSoup as BS\n",
    "from IPython.core.display import HTML\n",
    "import pandas as pd\n",
    "import re\n",
    "import requests"
   ]
  },
  {
   "cell_type": "code",
   "execution_count": 3,
   "id": "908ef96d",
   "metadata": {},
   "outputs": [],
   "source": [
    "URL = 'https://www.opensecrets.org/races/summary?cycle=2020&id=TN02&spec=N'\n",
    "\n",
    "response = requests.get(URL)"
   ]
  },
  {
   "cell_type": "code",
   "execution_count": 4,
   "id": "bf272924",
   "metadata": {},
   "outputs": [
    {
     "data": {
      "text/plain": [
       "requests.models.Response"
      ]
     },
     "execution_count": 4,
     "metadata": {},
     "output_type": "execute_result"
    }
   ],
   "source": [
    "type(response)"
   ]
  },
  {
   "cell_type": "code",
   "execution_count": 5,
   "id": "4b44bd21",
   "metadata": {},
   "outputs": [
    {
     "data": {
      "text/plain": [
       "200"
      ]
     },
     "execution_count": 5,
     "metadata": {},
     "output_type": "execute_result"
    }
   ],
   "source": [
    "response.status_code"
   ]
  },
  {
   "cell_type": "code",
   "execution_count": 8,
   "id": "fc9fe317",
   "metadata": {},
   "outputs": [],
   "source": [
    "soup = BS(response.text)"
   ]
  },
  {
   "cell_type": "code",
   "execution_count": 39,
   "id": "4c847ada",
   "metadata": {},
   "outputs": [],
   "source": [
    "# print(soup.prettify())"
   ]
  },
  {
   "cell_type": "code",
   "execution_count": 10,
   "id": "7e7287df",
   "metadata": {},
   "outputs": [
    {
     "data": {
      "text/plain": [
       "<title>Tennessee District 02 2020 Race • OpenSecrets</title>"
      ]
     },
     "execution_count": 10,
     "metadata": {},
     "output_type": "execute_result"
    }
   ],
   "source": [
    "soup.find('title')"
   ]
  },
  {
   "cell_type": "code",
   "execution_count": 35,
   "id": "b0ea66f2",
   "metadata": {},
   "outputs": [
    {
     "data": {
      "text/plain": [
       "[<table class=\"DataTable\">\n",
       " <thead>\n",
       " <tr>\n",
       " <th>Candidate</th>\n",
       " <th class=\"number\">Raised</th>\n",
       " <th class=\"number\">Spent</th>\n",
       " <th class=\"number\">Cash on Hand</th>\n",
       " <th>Last Report</th>\n",
       " </tr>\n",
       " </thead>\n",
       " <tbody>\n",
       " <tr>\n",
       " <td class=\"races-category red\" nowrap=\"\">\n",
       " <a href=\"/members-of-congress/tim-burchett/summary?cid=N00041594\">Tim Burchett (R)</a>\n",
       "  • <i>Incumbent</i> • <span class=\"winner\"><i>Winner</i></span> </td>\n",
       " <td class=\"number\">$1,336,276</td>\n",
       " <td class=\"number\">$878,488</td>\n",
       " <td class=\"number\">$593,678</td>\n",
       " <td>12/31/2020</td>\n",
       " </tr>\n",
       " <tr>\n",
       " <td class=\"races-category blue\" nowrap=\"\">\n",
       " \t\t\t\t\t\t\t\tRenee Hoyos (D)\n",
       " \t\t\t\t\t\t</td>\n",
       " <td class=\"number\">$812,784</td>\n",
       " <td class=\"number\">$816,793</td>\n",
       " <td class=\"number\">$210</td>\n",
       " <td>12/31/2020</td>\n",
       " </tr>\n",
       " </tbody>\n",
       " </table>,\n",
       " <table class=\"DataTable\">\n",
       " <thead>\n",
       " <tr>\n",
       " <th>Candidate</th>\n",
       " <th class=\"number\">Supported</th>\n",
       " <th class=\"number\">Opposed</th>\n",
       " <th class=\"number\">All 2020 Total<br/>\n",
       " \t\t\t\t\t\t\t(Supported and Opposed)</th>\n",
       " </tr>\n",
       " </thead>\n",
       " <tbody>\n",
       " <tr>\n",
       " <td class=\"races-category red\" nowrap=\"\">\n",
       " \t\t\t\t\t\t\t\tBurchett, Tim (R)\n",
       " \t\t\t\t\t\t</td>\n",
       " <td class=\"number\">$0</td>\n",
       " <td class=\"number\">$2,474</td>\n",
       " <td class=\"number\">$2,474</td>\n",
       " </tr>\n",
       " <tr>\n",
       " <td class=\"races-category blue\" nowrap=\"\">\n",
       " \t\t\t\t\t\t\t\tHoyos, Renee (D)\n",
       " \t\t\t\t\t\t</td>\n",
       " <td class=\"number\">$2,179</td>\n",
       " <td class=\"number\">$0</td>\n",
       " <td class=\"number\">$2,179</td>\n",
       " </tr>\n",
       " </tbody>\n",
       " <tfoot>\n",
       " <tr>\n",
       " <td colspan=\"4\"><a href=\"/races/outside-spending?cycle=2020&amp;id=TN02\">See more on Outside Spending</a></td>\n",
       " </tr>\n",
       " </tfoot>\n",
       " </table>]"
      ]
     },
     "execution_count": 35,
     "metadata": {},
     "output_type": "execute_result"
    }
   ],
   "source": [
    "soup.findAll('table')"
   ]
  },
  {
   "cell_type": "code",
   "execution_count": 40,
   "id": "2eec7549",
   "metadata": {},
   "outputs": [
    {
     "data": {
      "text/html": [
       "<table class=\"DataTable\">\n",
       "<thead>\n",
       "<tr>\n",
       "<th>Candidate</th>\n",
       "<th class=\"number\">Raised</th>\n",
       "<th class=\"number\">Spent</th>\n",
       "<th class=\"number\">Cash on Hand</th>\n",
       "<th>Last Report</th>\n",
       "</tr>\n",
       "</thead>\n",
       "<tbody>\n",
       "<tr>\n",
       "<td class=\"races-category red\" nowrap=\"\">\n",
       "<a href=\"/members-of-congress/tim-burchett/summary?cid=N00041594\">Tim Burchett (R)</a>\n",
       " • <i>Incumbent</i> • <span class=\"winner\"><i>Winner</i></span> </td>\n",
       "<td class=\"number\">$1,336,276</td>\n",
       "<td class=\"number\">$878,488</td>\n",
       "<td class=\"number\">$593,678</td>\n",
       "<td>12/31/2020</td>\n",
       "</tr>\n",
       "<tr>\n",
       "<td class=\"races-category blue\" nowrap=\"\">\n",
       "\t\t\t\t\t\t\t\tRenee Hoyos (D)\n",
       "\t\t\t\t\t\t</td>\n",
       "<td class=\"number\">$812,784</td>\n",
       "<td class=\"number\">$816,793</td>\n",
       "<td class=\"number\">$210</td>\n",
       "<td>12/31/2020</td>\n",
       "</tr>\n",
       "</tbody>\n",
       "</table>"
      ],
      "text/plain": [
       "<IPython.core.display.HTML object>"
      ]
     },
     "execution_count": 40,
     "metadata": {},
     "output_type": "execute_result"
    }
   ],
   "source": [
    "table_html = str(soup.find('table', attrs={'class' : 'DataTable'}))\n",
    "\n",
    "HTML(table_html)"
   ]
  },
  {
   "cell_type": "code",
   "execution_count": 50,
   "id": "f56967cd",
   "metadata": {},
   "outputs": [],
   "source": [
    "tim_ren = pd.read_html(str(soup.find('table', attrs={'class' : 'DataTable'})))[0]"
   ]
  },
  {
   "cell_type": "code",
   "execution_count": 51,
   "id": "13c340fa",
   "metadata": {},
   "outputs": [
    {
     "data": {
      "text/html": [
       "<div>\n",
       "<style scoped>\n",
       "    .dataframe tbody tr th:only-of-type {\n",
       "        vertical-align: middle;\n",
       "    }\n",
       "\n",
       "    .dataframe tbody tr th {\n",
       "        vertical-align: top;\n",
       "    }\n",
       "\n",
       "    .dataframe thead th {\n",
       "        text-align: right;\n",
       "    }\n",
       "</style>\n",
       "<table border=\"1\" class=\"dataframe\">\n",
       "  <thead>\n",
       "    <tr style=\"text-align: right;\">\n",
       "      <th></th>\n",
       "      <th>Candidate</th>\n",
       "      <th>Raised</th>\n",
       "      <th>Spent</th>\n",
       "      <th>Cash on Hand</th>\n",
       "      <th>Last Report</th>\n",
       "    </tr>\n",
       "  </thead>\n",
       "  <tbody>\n",
       "    <tr>\n",
       "      <th>0</th>\n",
       "      <td>Tim Burchett (R)  • Incumbent • Winner</td>\n",
       "      <td>$1,336,276</td>\n",
       "      <td>$878,488</td>\n",
       "      <td>$593,678</td>\n",
       "      <td>12/31/2020</td>\n",
       "    </tr>\n",
       "    <tr>\n",
       "      <th>1</th>\n",
       "      <td>Renee Hoyos (D)</td>\n",
       "      <td>$812,784</td>\n",
       "      <td>$816,793</td>\n",
       "      <td>$210</td>\n",
       "      <td>12/31/2020</td>\n",
       "    </tr>\n",
       "  </tbody>\n",
       "</table>\n",
       "</div>"
      ],
      "text/plain": [
       "                                Candidate      Raised     Spent Cash on Hand  \\\n",
       "0  Tim Burchett (R)  • Incumbent • Winner  $1,336,276  $878,488     $593,678   \n",
       "1                         Renee Hoyos (D)    $812,784  $816,793         $210   \n",
       "\n",
       "  Last Report  \n",
       "0  12/31/2020  \n",
       "1  12/31/2020  "
      ]
     },
     "execution_count": 51,
     "metadata": {},
     "output_type": "execute_result"
    }
   ],
   "source": [
    "tim_ren"
   ]
  },
  {
   "cell_type": "code",
   "execution_count": 28,
   "id": "1c91fd83",
   "metadata": {},
   "outputs": [
    {
     "data": {
      "text/plain": [
       "re.Pattern"
      ]
     },
     "execution_count": 28,
     "metadata": {},
     "output_type": "execute_result"
    }
   ],
   "source": [
    "# soup.findAll('a class=\"Footer-col-link\" href=\"/donate/\"')\n",
    "# print(type(images))\n",
    "# images"
   ]
  },
  {
   "cell_type": "markdown",
   "id": "efde46cf",
   "metadata": {},
   "source": [
    "### 2. Once you have working code for Tennessee's 2nd District, expand on your code to capture all of Tennessee's districts."
   ]
  },
  {
   "cell_type": "code",
   "execution_count": null,
   "id": "b93194ce",
   "metadata": {},
   "outputs": [],
   "source": [
    "# LATER, FOR OTHER DISTRICTS: USE LIST COMPRHENSION\n",
    "\n",
    "# district_srcs = [x.get('src') for x in districts]"
   ]
  },
  {
   "cell_type": "markdown",
   "id": "d234e01f",
   "metadata": {},
   "source": [
    "### 3. Once you have working code for all of Tennessee's districts, expand on it to capture all states and districts. The number of representatives each state has can be found in a table on this page: https://www.britannica.com/topic/United-States-House-of-Representatives-Seats-by-State-1787120"
   ]
  },
  {
   "cell_type": "code",
   "execution_count": null,
   "id": "83a6ccc0",
   "metadata": {},
   "outputs": [],
   "source": []
  },
  {
   "cell_type": "markdown",
   "id": "474be71a",
   "metadata": {},
   "source": [
    "### 4. Using your scraped data, investigates different relationships between candidates and the amount of money they raised. Here are some suggestions to get you started, but feel free to pose you own questions or do additional exploration:\n",
    "\n",
    "### 4a. How often does the candidate who raised more money win a race?"
   ]
  },
  {
   "cell_type": "code",
   "execution_count": null,
   "id": "76d81c03",
   "metadata": {},
   "outputs": [],
   "source": []
  },
  {
   "cell_type": "markdown",
   "id": "6e682dc6",
   "metadata": {},
   "source": [
    "### 4b. How often does the candidate who spent more money win a race?"
   ]
  },
  {
   "cell_type": "code",
   "execution_count": null,
   "id": "ca688500",
   "metadata": {},
   "outputs": [],
   "source": []
  },
  {
   "cell_type": "markdown",
   "id": "ee7c7542",
   "metadata": {},
   "source": [
    "### 4c. Does the difference between either money raised or money spent seem to influence the likelihood of a candidate winning a race?"
   ]
  },
  {
   "cell_type": "code",
   "execution_count": null,
   "id": "7e4d8f6a",
   "metadata": {},
   "outputs": [],
   "source": []
  },
  {
   "cell_type": "markdown",
   "id": "fa518877",
   "metadata": {},
   "source": [
    "### 4d. How often does the incumbent candidate win a race?"
   ]
  },
  {
   "cell_type": "code",
   "execution_count": null,
   "id": "3fe0b0e9",
   "metadata": {},
   "outputs": [],
   "source": []
  },
  {
   "cell_type": "markdown",
   "id": "b447c617",
   "metadata": {},
   "source": [
    "### 4e. Can you detect any relationship between amount of money raised and the incumbent status of a candidate?"
   ]
  }
 ],
 "metadata": {
  "kernelspec": {
   "display_name": "Python 3",
   "language": "python",
   "name": "python3"
  },
  "language_info": {
   "codemirror_mode": {
    "name": "ipython",
    "version": 3
   },
   "file_extension": ".py",
   "mimetype": "text/x-python",
   "name": "python",
   "nbconvert_exporter": "python",
   "pygments_lexer": "ipython3",
   "version": "3.8.8"
  }
 },
 "nbformat": 4,
 "nbformat_minor": 5
}
