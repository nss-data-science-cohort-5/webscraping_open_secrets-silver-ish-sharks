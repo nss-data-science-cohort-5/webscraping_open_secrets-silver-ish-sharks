{
 "cells": [
  {
   "cell_type": "code",
   "execution_count": 167,
   "id": "3a138530",
   "metadata": {},
   "outputs": [],
   "source": [
    "import requests\n",
    "from bs4 import BeautifulSoup as BS\n",
    "import pandas as pd\n",
    "import timeit\n",
    "import re\n",
    "from tqdm.notebook import tqdm\n",
    "import time"
   ]
  },
  {
   "cell_type": "code",
   "execution_count": 168,
   "id": "1161ef38",
   "metadata": {},
   "outputs": [],
   "source": [
    "def update_url(URL, numb_districts):\n",
    "    district = numb_districts\n",
    "\n",
    "    url = URL + f\"{district}&spec=N\"\n",
    "    \n",
    "    return url\n",
    "\n",
    "def split_title(title):\n",
    "    title = title.get_text()\n",
    "    title = (\n",
    "    title.replace(' 2020 Race • OpenSecrets', '')\n",
    "         .replace('District ', '')\n",
    "         .split(' ')\n",
    "        )\n",
    "    return title\n",
    "\n",
    "def get_dataframe(state, district, election_results):\n",
    "    regex_candidate = r\"(\\w+\\s\\w+)\"\n",
    "    incumbent = \"Incumbent\"\n",
    "    regex_party = r\"(\\W\\w\\W)\"\n",
    "    winner = \"Winner\"\n",
    "\n",
    "    columns_extract= {'Candidate_name': regex_candidate,'Party':regex_party}\n",
    "    columns_contains = {'Incumbent':incumbent, 'Winner':winner}\n",
    "\n",
    "    for key, value in columns_extract.items():\n",
    "        election_results[key] = election_results['Candidate'].str.extract(value, expand=True)\n",
    "\n",
    "    for key, value in columns_contains.items():\n",
    "        election_results[key] = election_results['Candidate'].str.contains(value)\n",
    "        \n",
    "    election_results['Raised'] = election_results['Raised'].map(lambda x: re.sub(r'\\D', '', x))\n",
    "    election_results['Spent'] = election_results['Spent'].map(lambda x: re.sub(r'\\D', '', x))\n",
    "    \n",
    "    election_results['Raised'] = election_results['Raised'].apply(pd.to_numeric)\n",
    "    election_results['Spent'] = election_results['Spent'].apply(pd.to_numeric)\n",
    "    \n",
    "    election_results['percent_raised'] = election_results['Raised'] / election_results['Raised'].sum() * 100\n",
    "    election_results['percent_spent'] = election_results['Spent'] / election_results['Spent'].sum() * 100\n",
    "\n",
    "\n",
    "    election_results['State'] = state \n",
    "\n",
    "    election_results['District'] = district\n",
    "\n",
    "    election_results = election_results[['Candidate_name', \n",
    "                                         'Party', \n",
    "                                         'State',\n",
    "                                         'District',\n",
    "                                         'Incumbent', \n",
    "                                         'Winner', \n",
    "                                         'Raised', \n",
    "                                         'Spent',\n",
    "                                         'percent_raised',\n",
    "                                         'percent_spent']]\n",
    "    return election_results\n",
    "    \n",
    "def generate_dataframe(response):\n",
    "    soup = BS(response.text)\n",
    "    soup.prettify()\n",
    "    \n",
    "    \n",
    "    title = soup.find('title')\n",
    "    title = split_title(title)\n",
    "    state = (title[0])\n",
    "    district = title[1]\n",
    "    \n",
    "    election_results = pd.read_html(str(soup.find('table')))[0]\n",
    "    election_results = get_dataframe(state, district, election_results)\n",
    "    return election_results\n",
    "\n",
    "def state_parse(key, value):\n",
    "    url = f\"https://www.opensecrets.org/races/summary?cycle=2020&id={key}\"\n",
    "    numb_districts = value\n",
    "    election_results = pd.DataFrame(columns=['Candidate_name', \n",
    "                                         'Party', \n",
    "                                         'State',\n",
    "                                         'District',\n",
    "                                         'Incumbent', \n",
    "                                         'Winner', \n",
    "                                         'Raised', \n",
    "                                         'Spent'])\n",
    "    for i in range(1, numb_districts + 1):\n",
    "        time.sleep(0.5)\n",
    "        district = '{:0>2}'.format(i)\n",
    "        URL = update_url(url, district)\n",
    "        response = requests.get(URL)\n",
    "\n",
    "        results = generate_dataframe(response)\n",
    "        \n",
    "        election_results = election_results.append(results)\n",
    "       \n",
    "    return election_results\n"
   ]
  },
  {
   "cell_type": "code",
   "execution_count": 169,
   "id": "edd80e74",
   "metadata": {},
   "outputs": [],
   "source": [
    "#election_results = pd.DataFrame(columns=['Candidate_name', \n",
    "#                                         'Party', \n",
    " #                                        'State',\n",
    "  #                                       'District',\n",
    "   #                                      'Incumbent', \n",
    "    #                                     'Winner', \n",
    "     #                                    'Raised', \n",
    "      #                                   'Spent'])"
   ]
  },
  {
   "cell_type": "code",
   "execution_count": 170,
   "id": "9c281629",
   "metadata": {},
   "outputs": [
    {
     "data": {
      "text/plain": [
       "<html>\n",
       "<head><title>403 Forbidden</title></head>\n",
       "<body>\n",
       "<center><h1>403 Forbidden</h1></center>\n",
       "<hr/><center>nginx</center>\n",
       "</body>\n",
       "</html>"
      ]
     },
     "execution_count": 170,
     "metadata": {},
     "output_type": "execute_result"
    }
   ],
   "source": [
    "URL_abb = \"https://www.scouting.org/resources/los/states/\"\n",
    "\n",
    "response_abb = requests.get(URL_abb)\n",
    "\n",
    "soup_abb = BS(response_abb.text)\n",
    "\n",
    "soup_abb"
   ]
  },
  {
   "cell_type": "code",
   "execution_count": 171,
   "id": "c3557202",
   "metadata": {
    "scrolled": true
   },
   "outputs": [
    {
     "data": {
      "text/plain": [
       "{'AL': 7,\n",
       " 'AK': 1,\n",
       " 'AZ': 9,\n",
       " 'AR': 4,\n",
       " 'CA': 53,\n",
       " 'CO': 7,\n",
       " 'CT': 5,\n",
       " 'DE': 1,\n",
       " 'FL': 27,\n",
       " 'GA': 14,\n",
       " 'HI': 2,\n",
       " 'ID': 2,\n",
       " 'IL': 18,\n",
       " 'IN': 9,\n",
       " 'IA': 4,\n",
       " 'KS': 4,\n",
       " 'KY': 6,\n",
       " 'LA': 6,\n",
       " 'ME': 2,\n",
       " 'MD': 8,\n",
       " 'MA': 9,\n",
       " 'MI': 14,\n",
       " 'MN': 8,\n",
       " 'MS': 4,\n",
       " 'MO': 8,\n",
       " 'MT': 1,\n",
       " 'NE': 3,\n",
       " 'NV': 4,\n",
       " 'NH': 2,\n",
       " 'NJ': 12,\n",
       " 'NM': 3,\n",
       " 'NY': 27,\n",
       " 'NC': 13,\n",
       " 'ND': 1,\n",
       " 'OH': 16,\n",
       " 'OK': 5,\n",
       " 'OR': 5,\n",
       " 'PA': 18,\n",
       " 'RI': 2,\n",
       " 'SC': 7,\n",
       " 'SD': 1,\n",
       " 'TN': 9,\n",
       " 'TX': 36,\n",
       " 'UT': 4,\n",
       " 'VT': 1,\n",
       " 'VA': 11,\n",
       " 'WA': 10,\n",
       " 'WV': 3,\n",
       " 'WI': 8,\n",
       " 'WY': 1}"
      ]
     },
     "execution_count": 171,
     "metadata": {},
     "output_type": "execute_result"
    }
   ],
   "source": [
    "URL_states = \"https://www.britannica.com/topic/United-States-House-of-Representatives-Seats-by-State-1787120\"\n",
    "URL_abb = \"https://www.50states.com/abbreviations.htm\"\n",
    "\n",
    "response_states = requests.get(URL_states)\n",
    "response_abb = requests.get(URL_abb)\n",
    "\n",
    "soup = BS(response_states.text)\n",
    "\n",
    "soup_abb = BS(response_abb.text)\n",
    "\n",
    "abb = pd.read_html(str(soup_abb.find('table')))[0]\n",
    "abb = abb.drop(columns='STANDARD ABBREVIATION')\n",
    "abb = abb.rename(columns={'US STATE':'state', 'POSTAL ABBREVIATION':'state_abb'})\n",
    "\n",
    "\n",
    "states = pd.read_html(str(soup.find('table')))[0]\n",
    "states = states.drop([50])\n",
    "\n",
    "state_districts = pd.merge(states, abb, on='state')\n",
    "state_districts['representatives'] = state_districts['representatives'].apply(pd.to_numeric)\n",
    "state_districts = state_districts[['state_abb', 'representatives']].set_index('state_abb').T.to_dict('records')\n",
    "\n",
    "state_districts = state_districts[0]\n",
    "state_districts"
   ]
  },
  {
   "cell_type": "code",
   "execution_count": 172,
   "id": "3a1ec4f7",
   "metadata": {},
   "outputs": [
    {
     "data": {
      "text/plain": [
       "7"
      ]
     },
     "execution_count": 172,
     "metadata": {},
     "output_type": "execute_result"
    }
   ],
   "source": [
    "state_districts['AL']"
   ]
  },
  {
   "cell_type": "code",
   "execution_count": 173,
   "id": "a943b5fe",
   "metadata": {
    "scrolled": true
   },
   "outputs": [
    {
     "data": {
      "application/vnd.jupyter.widget-view+json": {
       "model_id": "9cfbf57fb939407aa209074547dbc64c",
       "version_major": 2,
       "version_minor": 0
      },
      "text/plain": [
       "  0%|          | 0/50 [00:00<?, ?it/s]"
      ]
     },
     "metadata": {},
     "output_type": "display_data"
    },
    {
     "data": {
      "application/vnd.jupyter.widget-view+json": {
       "model_id": "a9eeb1a2bf354b05a2116ab3b59fe4f9",
       "version_major": 2,
       "version_minor": 0
      },
      "text/plain": [
       "  0%|          | 0/7 [00:00<?, ?it/s]"
      ]
     },
     "metadata": {},
     "output_type": "display_data"
    },
    {
     "data": {
      "application/vnd.jupyter.widget-view+json": {
       "model_id": "d7a6cb046b9c483eae6b29c96b5bca62",
       "version_major": 2,
       "version_minor": 0
      },
      "text/plain": [
       "  0%|          | 0/1 [00:00<?, ?it/s]"
      ]
     },
     "metadata": {},
     "output_type": "display_data"
    },
    {
     "data": {
      "application/vnd.jupyter.widget-view+json": {
       "model_id": "d8220725991144a0b360dfa822694e57",
       "version_major": 2,
       "version_minor": 0
      },
      "text/plain": [
       "  0%|          | 0/9 [00:00<?, ?it/s]"
      ]
     },
     "metadata": {},
     "output_type": "display_data"
    },
    {
     "data": {
      "application/vnd.jupyter.widget-view+json": {
       "model_id": "81d10cd6baf94df78933e53936e2a91b",
       "version_major": 2,
       "version_minor": 0
      },
      "text/plain": [
       "  0%|          | 0/4 [00:00<?, ?it/s]"
      ]
     },
     "metadata": {},
     "output_type": "display_data"
    },
    {
     "data": {
      "application/vnd.jupyter.widget-view+json": {
       "model_id": "eaf22ed5b4334e76a0a7eb68214b057d",
       "version_major": 2,
       "version_minor": 0
      },
      "text/plain": [
       "  0%|          | 0/53 [00:00<?, ?it/s]"
      ]
     },
     "metadata": {},
     "output_type": "display_data"
    },
    {
     "data": {
      "application/vnd.jupyter.widget-view+json": {
       "model_id": "31494abbfddb41308a894fe5ad0f4c8e",
       "version_major": 2,
       "version_minor": 0
      },
      "text/plain": [
       "  0%|          | 0/7 [00:00<?, ?it/s]"
      ]
     },
     "metadata": {},
     "output_type": "display_data"
    },
    {
     "data": {
      "application/vnd.jupyter.widget-view+json": {
       "model_id": "6786968b6f6f49128eedadc9bea1ba57",
       "version_major": 2,
       "version_minor": 0
      },
      "text/plain": [
       "  0%|          | 0/5 [00:00<?, ?it/s]"
      ]
     },
     "metadata": {},
     "output_type": "display_data"
    },
    {
     "data": {
      "application/vnd.jupyter.widget-view+json": {
       "model_id": "30725cf7b9c447bea6b57ef3e082e85a",
       "version_major": 2,
       "version_minor": 0
      },
      "text/plain": [
       "  0%|          | 0/1 [00:00<?, ?it/s]"
      ]
     },
     "metadata": {},
     "output_type": "display_data"
    },
    {
     "data": {
      "application/vnd.jupyter.widget-view+json": {
       "model_id": "5af5d6f7f85a473f96391537f1f26c1d",
       "version_major": 2,
       "version_minor": 0
      },
      "text/plain": [
       "  0%|          | 0/27 [00:00<?, ?it/s]"
      ]
     },
     "metadata": {},
     "output_type": "display_data"
    },
    {
     "data": {
      "application/vnd.jupyter.widget-view+json": {
       "model_id": "0a31f3e3a98f418caf633760343d650a",
       "version_major": 2,
       "version_minor": 0
      },
      "text/plain": [
       "  0%|          | 0/14 [00:00<?, ?it/s]"
      ]
     },
     "metadata": {},
     "output_type": "display_data"
    },
    {
     "data": {
      "application/vnd.jupyter.widget-view+json": {
       "model_id": "0f5390a4442b46fc9a3a8b05cda226b7",
       "version_major": 2,
       "version_minor": 0
      },
      "text/plain": [
       "  0%|          | 0/2 [00:00<?, ?it/s]"
      ]
     },
     "metadata": {},
     "output_type": "display_data"
    },
    {
     "data": {
      "application/vnd.jupyter.widget-view+json": {
       "model_id": "66fbb1642a5d44bf80b77f19684eef5e",
       "version_major": 2,
       "version_minor": 0
      },
      "text/plain": [
       "  0%|          | 0/2 [00:00<?, ?it/s]"
      ]
     },
     "metadata": {},
     "output_type": "display_data"
    },
    {
     "data": {
      "application/vnd.jupyter.widget-view+json": {
       "model_id": "d3486c2f6d874ccb9f78356e6e6f1073",
       "version_major": 2,
       "version_minor": 0
      },
      "text/plain": [
       "  0%|          | 0/18 [00:00<?, ?it/s]"
      ]
     },
     "metadata": {},
     "output_type": "display_data"
    },
    {
     "data": {
      "application/vnd.jupyter.widget-view+json": {
       "model_id": "51ebd633478640208338980874358184",
       "version_major": 2,
       "version_minor": 0
      },
      "text/plain": [
       "  0%|          | 0/9 [00:00<?, ?it/s]"
      ]
     },
     "metadata": {},
     "output_type": "display_data"
    },
    {
     "data": {
      "application/vnd.jupyter.widget-view+json": {
       "model_id": "6260a07deaf14529b0aa9a93c817c360",
       "version_major": 2,
       "version_minor": 0
      },
      "text/plain": [
       "  0%|          | 0/4 [00:00<?, ?it/s]"
      ]
     },
     "metadata": {},
     "output_type": "display_data"
    },
    {
     "data": {
      "application/vnd.jupyter.widget-view+json": {
       "model_id": "3b507a9662bf46f79aea1859e73da852",
       "version_major": 2,
       "version_minor": 0
      },
      "text/plain": [
       "  0%|          | 0/4 [00:00<?, ?it/s]"
      ]
     },
     "metadata": {},
     "output_type": "display_data"
    },
    {
     "data": {
      "application/vnd.jupyter.widget-view+json": {
       "model_id": "cd9b90d5849e4d9aa80193f0bda0ea14",
       "version_major": 2,
       "version_minor": 0
      },
      "text/plain": [
       "  0%|          | 0/6 [00:00<?, ?it/s]"
      ]
     },
     "metadata": {},
     "output_type": "display_data"
    },
    {
     "data": {
      "application/vnd.jupyter.widget-view+json": {
       "model_id": "8ac69d2b47fa490fb3ece2a024bea4ff",
       "version_major": 2,
       "version_minor": 0
      },
      "text/plain": [
       "  0%|          | 0/6 [00:00<?, ?it/s]"
      ]
     },
     "metadata": {},
     "output_type": "display_data"
    },
    {
     "data": {
      "application/vnd.jupyter.widget-view+json": {
       "model_id": "4dba19a506414ad3adfbb4bfec27fa26",
       "version_major": 2,
       "version_minor": 0
      },
      "text/plain": [
       "  0%|          | 0/2 [00:00<?, ?it/s]"
      ]
     },
     "metadata": {},
     "output_type": "display_data"
    },
    {
     "data": {
      "application/vnd.jupyter.widget-view+json": {
       "model_id": "c1370cf5700a4fe1ab89b0768b29db54",
       "version_major": 2,
       "version_minor": 0
      },
      "text/plain": [
       "  0%|          | 0/8 [00:00<?, ?it/s]"
      ]
     },
     "metadata": {},
     "output_type": "display_data"
    },
    {
     "data": {
      "application/vnd.jupyter.widget-view+json": {
       "model_id": "86631ec64b03433889b7e325ef73b697",
       "version_major": 2,
       "version_minor": 0
      },
      "text/plain": [
       "  0%|          | 0/9 [00:00<?, ?it/s]"
      ]
     },
     "metadata": {},
     "output_type": "display_data"
    },
    {
     "data": {
      "application/vnd.jupyter.widget-view+json": {
       "model_id": "27ee798b8a9749aba9cb38ee097f1c36",
       "version_major": 2,
       "version_minor": 0
      },
      "text/plain": [
       "  0%|          | 0/14 [00:00<?, ?it/s]"
      ]
     },
     "metadata": {},
     "output_type": "display_data"
    },
    {
     "data": {
      "application/vnd.jupyter.widget-view+json": {
       "model_id": "1778389ca76e48faa5cab151e328cab3",
       "version_major": 2,
       "version_minor": 0
      },
      "text/plain": [
       "  0%|          | 0/8 [00:00<?, ?it/s]"
      ]
     },
     "metadata": {},
     "output_type": "display_data"
    },
    {
     "data": {
      "application/vnd.jupyter.widget-view+json": {
       "model_id": "c660a9127ca24a2f83da430d71290cba",
       "version_major": 2,
       "version_minor": 0
      },
      "text/plain": [
       "  0%|          | 0/4 [00:00<?, ?it/s]"
      ]
     },
     "metadata": {},
     "output_type": "display_data"
    },
    {
     "data": {
      "application/vnd.jupyter.widget-view+json": {
       "model_id": "303c99834c664398abf6fb8c59beb548",
       "version_major": 2,
       "version_minor": 0
      },
      "text/plain": [
       "  0%|          | 0/8 [00:00<?, ?it/s]"
      ]
     },
     "metadata": {},
     "output_type": "display_data"
    },
    {
     "data": {
      "application/vnd.jupyter.widget-view+json": {
       "model_id": "77bbe71b628c4f0c949d24ca00a3ffb1",
       "version_major": 2,
       "version_minor": 0
      },
      "text/plain": [
       "  0%|          | 0/1 [00:00<?, ?it/s]"
      ]
     },
     "metadata": {},
     "output_type": "display_data"
    },
    {
     "data": {
      "application/vnd.jupyter.widget-view+json": {
       "model_id": "65339a1fb5c74092b442ca03dd85668c",
       "version_major": 2,
       "version_minor": 0
      },
      "text/plain": [
       "  0%|          | 0/3 [00:00<?, ?it/s]"
      ]
     },
     "metadata": {},
     "output_type": "display_data"
    },
    {
     "data": {
      "application/vnd.jupyter.widget-view+json": {
       "model_id": "481d5114297e4b9dbf1bd70f655666e7",
       "version_major": 2,
       "version_minor": 0
      },
      "text/plain": [
       "  0%|          | 0/4 [00:00<?, ?it/s]"
      ]
     },
     "metadata": {},
     "output_type": "display_data"
    },
    {
     "data": {
      "application/vnd.jupyter.widget-view+json": {
       "model_id": "16454611c96c47cd90fb577667ed9677",
       "version_major": 2,
       "version_minor": 0
      },
      "text/plain": [
       "  0%|          | 0/2 [00:00<?, ?it/s]"
      ]
     },
     "metadata": {},
     "output_type": "display_data"
    },
    {
     "data": {
      "application/vnd.jupyter.widget-view+json": {
       "model_id": "8917fb5364aa426aa69923d303bb5136",
       "version_major": 2,
       "version_minor": 0
      },
      "text/plain": [
       "  0%|          | 0/12 [00:00<?, ?it/s]"
      ]
     },
     "metadata": {},
     "output_type": "display_data"
    },
    {
     "data": {
      "application/vnd.jupyter.widget-view+json": {
       "model_id": "ecabe75ea0fd4e83a0a260ad02271a9e",
       "version_major": 2,
       "version_minor": 0
      },
      "text/plain": [
       "  0%|          | 0/3 [00:00<?, ?it/s]"
      ]
     },
     "metadata": {},
     "output_type": "display_data"
    },
    {
     "data": {
      "application/vnd.jupyter.widget-view+json": {
       "model_id": "5049258209194590b86d96b66c1d903f",
       "version_major": 2,
       "version_minor": 0
      },
      "text/plain": [
       "  0%|          | 0/27 [00:00<?, ?it/s]"
      ]
     },
     "metadata": {},
     "output_type": "display_data"
    },
    {
     "data": {
      "application/vnd.jupyter.widget-view+json": {
       "model_id": "c5917160c34c480ebefad5245ee5dbdd",
       "version_major": 2,
       "version_minor": 0
      },
      "text/plain": [
       "  0%|          | 0/13 [00:00<?, ?it/s]"
      ]
     },
     "metadata": {},
     "output_type": "display_data"
    },
    {
     "data": {
      "application/vnd.jupyter.widget-view+json": {
       "model_id": "92a095b95caf4f54a8c84b6eb054b73e",
       "version_major": 2,
       "version_minor": 0
      },
      "text/plain": [
       "  0%|          | 0/1 [00:00<?, ?it/s]"
      ]
     },
     "metadata": {},
     "output_type": "display_data"
    },
    {
     "data": {
      "application/vnd.jupyter.widget-view+json": {
       "model_id": "d54b64a8f06545198336f8a91770d876",
       "version_major": 2,
       "version_minor": 0
      },
      "text/plain": [
       "  0%|          | 0/16 [00:00<?, ?it/s]"
      ]
     },
     "metadata": {},
     "output_type": "display_data"
    },
    {
     "data": {
      "application/vnd.jupyter.widget-view+json": {
       "model_id": "31523f3e7cd44b9db5a68a78e8aaf1f1",
       "version_major": 2,
       "version_minor": 0
      },
      "text/plain": [
       "  0%|          | 0/5 [00:00<?, ?it/s]"
      ]
     },
     "metadata": {},
     "output_type": "display_data"
    },
    {
     "data": {
      "application/vnd.jupyter.widget-view+json": {
       "model_id": "00cc76b9bf044eeba039d356737d7f70",
       "version_major": 2,
       "version_minor": 0
      },
      "text/plain": [
       "  0%|          | 0/5 [00:00<?, ?it/s]"
      ]
     },
     "metadata": {},
     "output_type": "display_data"
    },
    {
     "data": {
      "application/vnd.jupyter.widget-view+json": {
       "model_id": "92326a11aa2049809d0ba038481a4f89",
       "version_major": 2,
       "version_minor": 0
      },
      "text/plain": [
       "  0%|          | 0/18 [00:00<?, ?it/s]"
      ]
     },
     "metadata": {},
     "output_type": "display_data"
    },
    {
     "data": {
      "application/vnd.jupyter.widget-view+json": {
       "model_id": "9178d7cd4a4b4331a376bbf1918cd667",
       "version_major": 2,
       "version_minor": 0
      },
      "text/plain": [
       "  0%|          | 0/2 [00:00<?, ?it/s]"
      ]
     },
     "metadata": {},
     "output_type": "display_data"
    },
    {
     "data": {
      "application/vnd.jupyter.widget-view+json": {
       "model_id": "78120ee4c0dd4df1a9258071b0271536",
       "version_major": 2,
       "version_minor": 0
      },
      "text/plain": [
       "  0%|          | 0/7 [00:00<?, ?it/s]"
      ]
     },
     "metadata": {},
     "output_type": "display_data"
    },
    {
     "data": {
      "application/vnd.jupyter.widget-view+json": {
       "model_id": "16f596043b8c4216a93e14a664b8106d",
       "version_major": 2,
       "version_minor": 0
      },
      "text/plain": [
       "  0%|          | 0/1 [00:00<?, ?it/s]"
      ]
     },
     "metadata": {},
     "output_type": "display_data"
    },
    {
     "data": {
      "application/vnd.jupyter.widget-view+json": {
       "model_id": "879116d6810a44a1ad23e015c7d8ca17",
       "version_major": 2,
       "version_minor": 0
      },
      "text/plain": [
       "  0%|          | 0/9 [00:00<?, ?it/s]"
      ]
     },
     "metadata": {},
     "output_type": "display_data"
    },
    {
     "data": {
      "application/vnd.jupyter.widget-view+json": {
       "model_id": "bfad218994954490832b655be1dcc89f",
       "version_major": 2,
       "version_minor": 0
      },
      "text/plain": [
       "  0%|          | 0/36 [00:00<?, ?it/s]"
      ]
     },
     "metadata": {},
     "output_type": "display_data"
    },
    {
     "data": {
      "application/vnd.jupyter.widget-view+json": {
       "model_id": "44b4b822c73f48bdbae36ce2bebb1cea",
       "version_major": 2,
       "version_minor": 0
      },
      "text/plain": [
       "  0%|          | 0/4 [00:00<?, ?it/s]"
      ]
     },
     "metadata": {},
     "output_type": "display_data"
    },
    {
     "data": {
      "application/vnd.jupyter.widget-view+json": {
       "model_id": "09c8442de9484ef1832c4ac3601887e4",
       "version_major": 2,
       "version_minor": 0
      },
      "text/plain": [
       "  0%|          | 0/1 [00:00<?, ?it/s]"
      ]
     },
     "metadata": {},
     "output_type": "display_data"
    },
    {
     "data": {
      "application/vnd.jupyter.widget-view+json": {
       "model_id": "3128063fdb28431ca447b480f060c911",
       "version_major": 2,
       "version_minor": 0
      },
      "text/plain": [
       "  0%|          | 0/11 [00:00<?, ?it/s]"
      ]
     },
     "metadata": {},
     "output_type": "display_data"
    },
    {
     "data": {
      "application/vnd.jupyter.widget-view+json": {
       "model_id": "eb7908bab381433bbcba0c33ee1011da",
       "version_major": 2,
       "version_minor": 0
      },
      "text/plain": [
       "  0%|          | 0/10 [00:00<?, ?it/s]"
      ]
     },
     "metadata": {},
     "output_type": "display_data"
    },
    {
     "data": {
      "application/vnd.jupyter.widget-view+json": {
       "model_id": "baac46a33c1549fca42c3e8e0a4ea67b",
       "version_major": 2,
       "version_minor": 0
      },
      "text/plain": [
       "  0%|          | 0/3 [00:00<?, ?it/s]"
      ]
     },
     "metadata": {},
     "output_type": "display_data"
    },
    {
     "data": {
      "application/vnd.jupyter.widget-view+json": {
       "model_id": "31dd5b3d90714cfda6da14d1ef816427",
       "version_major": 2,
       "version_minor": 0
      },
      "text/plain": [
       "  0%|          | 0/8 [00:00<?, ?it/s]"
      ]
     },
     "metadata": {},
     "output_type": "display_data"
    },
    {
     "data": {
      "application/vnd.jupyter.widget-view+json": {
       "model_id": "3c5068dd0da642d88b7ce581b7708631",
       "version_major": 2,
       "version_minor": 0
      },
      "text/plain": [
       "  0%|          | 0/1 [00:00<?, ?it/s]"
      ]
     },
     "metadata": {},
     "output_type": "display_data"
    },
    {
     "data": {
      "text/html": [
       "<div>\n",
       "<style scoped>\n",
       "    .dataframe tbody tr th:only-of-type {\n",
       "        vertical-align: middle;\n",
       "    }\n",
       "\n",
       "    .dataframe tbody tr th {\n",
       "        vertical-align: top;\n",
       "    }\n",
       "\n",
       "    .dataframe thead th {\n",
       "        text-align: right;\n",
       "    }\n",
       "</style>\n",
       "<table border=\"1\" class=\"dataframe\">\n",
       "  <thead>\n",
       "    <tr style=\"text-align: right;\">\n",
       "      <th></th>\n",
       "      <th>Candidate_name</th>\n",
       "      <th>Party</th>\n",
       "      <th>State</th>\n",
       "      <th>District</th>\n",
       "      <th>Incumbent</th>\n",
       "      <th>Winner</th>\n",
       "      <th>Raised</th>\n",
       "      <th>Spent</th>\n",
       "      <th>percent_raised</th>\n",
       "      <th>percent_spent</th>\n",
       "    </tr>\n",
       "  </thead>\n",
       "  <tbody>\n",
       "    <tr>\n",
       "      <th>0</th>\n",
       "      <td>Liz Cheney</td>\n",
       "      <td>(R)</td>\n",
       "      <td>Wyoming</td>\n",
       "      <td>01</td>\n",
       "      <td>True</td>\n",
       "      <td>True</td>\n",
       "      <td>3003883</td>\n",
       "      <td>3060167</td>\n",
       "      <td>95.711395</td>\n",
       "      <td>95.857821</td>\n",
       "    </tr>\n",
       "    <tr>\n",
       "      <th>1</th>\n",
       "      <td>Lynnette Grey</td>\n",
       "      <td>(D)</td>\n",
       "      <td>Wyoming</td>\n",
       "      <td>01</td>\n",
       "      <td>False</td>\n",
       "      <td>False</td>\n",
       "      <td>134597</td>\n",
       "      <td>132235</td>\n",
       "      <td>4.288605</td>\n",
       "      <td>4.142179</td>\n",
       "    </tr>\n",
       "    <tr>\n",
       "      <th>0</th>\n",
       "      <td>Liz Cheney</td>\n",
       "      <td>(R)</td>\n",
       "      <td>Wyoming</td>\n",
       "      <td>01</td>\n",
       "      <td>True</td>\n",
       "      <td>True</td>\n",
       "      <td>3003883</td>\n",
       "      <td>3060167</td>\n",
       "      <td>95.711395</td>\n",
       "      <td>95.857821</td>\n",
       "    </tr>\n",
       "    <tr>\n",
       "      <th>1</th>\n",
       "      <td>Lynnette Grey</td>\n",
       "      <td>(D)</td>\n",
       "      <td>Wyoming</td>\n",
       "      <td>01</td>\n",
       "      <td>False</td>\n",
       "      <td>False</td>\n",
       "      <td>134597</td>\n",
       "      <td>132235</td>\n",
       "      <td>4.288605</td>\n",
       "      <td>4.142179</td>\n",
       "    </tr>\n",
       "  </tbody>\n",
       "</table>\n",
       "</div>"
      ],
      "text/plain": [
       "  Candidate_name Party    State District Incumbent Winner   Raised    Spent  \\\n",
       "0     Liz Cheney   (R)  Wyoming       01      True   True  3003883  3060167   \n",
       "1  Lynnette Grey   (D)  Wyoming       01     False  False   134597   132235   \n",
       "0     Liz Cheney   (R)  Wyoming       01      True   True  3003883  3060167   \n",
       "1  Lynnette Grey   (D)  Wyoming       01     False  False   134597   132235   \n",
       "\n",
       "   percent_raised  percent_spent  \n",
       "0       95.711395      95.857821  \n",
       "1        4.288605       4.142179  \n",
       "0       95.711395      95.857821  \n",
       "1        4.288605       4.142179  "
      ]
     },
     "execution_count": 173,
     "metadata": {},
     "output_type": "execute_result"
    }
   ],
   "source": [
    "  election_results = pd.DataFrame(columns=['Candidate_name', \n",
    "                                         'Party', \n",
    "                                         'State',\n",
    "                                         'District',\n",
    "                                         'Incumbent', \n",
    "                                         'Winner', \n",
    "                                         'Raised', \n",
    "                                         'Spent'])\n",
    "\n",
    "for key in tqdm(state_districts.keys()):\n",
    "    election_results = state_parse(key, state_districts[key])\n",
    "    election_results = election_results.append(election_results)\n",
    "\n",
    "election_results    "
   ]
  },
  {
   "cell_type": "code",
   "execution_count": null,
   "id": "dd0c5076",
   "metadata": {},
   "outputs": [],
   "source": []
  },
  {
   "cell_type": "code",
   "execution_count": 149,
   "id": "ed1b55bb",
   "metadata": {
    "scrolled": true
   },
   "outputs": [
    {
     "name": "stdout",
     "output_type": "stream",
     "text": [
      "7\n",
      "1\n",
      "9\n",
      "4\n",
      "53\n",
      "7\n",
      "5\n",
      "1\n",
      "27\n",
      "14\n",
      "2\n",
      "2\n",
      "18\n",
      "9\n",
      "4\n",
      "4\n",
      "6\n",
      "6\n",
      "2\n",
      "8\n",
      "9\n",
      "14\n",
      "8\n",
      "4\n",
      "8\n",
      "1\n",
      "3\n",
      "4\n",
      "2\n",
      "12\n",
      "3\n",
      "27\n",
      "13\n",
      "1\n",
      "16\n",
      "5\n",
      "5\n",
      "18\n",
      "2\n",
      "7\n",
      "1\n",
      "9\n",
      "36\n",
      "4\n",
      "1\n",
      "11\n",
      "10\n",
      "3\n",
      "8\n",
      "1\n"
     ]
    }
   ],
   "source": [
    "for key in state_districts:\n",
    "    print(state_districts[key])"
   ]
  }
 ],
 "metadata": {
  "kernelspec": {
   "display_name": "Python 3",
   "language": "python",
   "name": "python3"
  },
  "language_info": {
   "codemirror_mode": {
    "name": "ipython",
    "version": 3
   },
   "file_extension": ".py",
   "mimetype": "text/x-python",
   "name": "python",
   "nbconvert_exporter": "python",
   "pygments_lexer": "ipython3",
   "version": "3.8.8"
  }
 },
 "nbformat": 4,
 "nbformat_minor": 5
}
