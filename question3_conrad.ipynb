{
 "cells": [
  {
   "cell_type": "code",
   "execution_count": null,
   "id": "3a138530",
   "metadata": {},
   "outputs": [],
   "source": [
    "import requests\n",
    "from bs4 import BeautifulSoup as BS\n",
    "import pandas as pd\n",
    "import timeit\n",
    "import re\n",
    "from tqdm.notebook import tqdm"
   ]
  },
  {
   "cell_type": "code",
   "execution_count": null,
   "id": "1161ef38",
   "metadata": {},
   "outputs": [],
   "source": [
    "def state_parse(key, value):\n",
    "    url = f\"https://www.opensecrets.org/races/summary?cycle=2020&id={key}\"\n",
    "    numb_districts = value\n",
    "    for i in range(1, numb_districts + 1):\n",
    "\n",
    "        district = '{:0>2}'.format(i)\n",
    "        URL = update_url(url, district)\n",
    "        response = requests.get(URL)\n",
    "\n",
    "        results = generate_dataframe(response)\n",
    "\n",
    "        election_results = election_results.append(results)\n",
    "       \n",
    "    return election_results\n",
    "\n",
    "def update_url(URL, numb_districts):\n",
    "    district = numb_districts\n",
    "\n",
    "    URL = url + f\"{district}&spec=N\"\n",
    "    \n",
    "    return url;\n",
    "\n",
    "def split_title(title):\n",
    "    title = title.get_text()\n",
    "    title = (\n",
    "    title.replace(' 2020 Race • OpenSecrets', '')\n",
    "         .replace('District ', '')\n",
    "         .split(' ')\n",
    "        )\n",
    "    return title\n",
    "\n",
    "def get_dataframe(state, district, election_results):\n",
    "    regex_candidate = r\"(\\w+\\s\\w+)\"\n",
    "    incumbent = \"Incumbent\"\n",
    "    regex_party = r\"(\\W\\w\\W)\"\n",
    "    winner = \"Winner\"\n",
    "\n",
    "    columns_extract= {'Candidate_name': regex_candidate,'Party':regex_party}\n",
    "    columns_contains = {'Incumbent':incumbent, 'Winner':winner}\n",
    "\n",
    "    for key, value in columns_extract.items():\n",
    "        election_results[key] = election_results['Candidate'].str.extract(value, expand=True)\n",
    "\n",
    "    for key, value in columns_contains.items():\n",
    "        election_results[key] = election_results['Candidate'].str.contains(value)\n",
    "        \n",
    "    election_results['Raised'] = election_results['Raised'].map(lambda x: re.sub(r'\\D', '', x))\n",
    "    election_results['Spent'] = election_results['Spent'].map(lambda x: re.sub(r'\\D', '', x))\n",
    "    \n",
    "    election_results['Raised'] = election_results['Raised'].apply(pd.to_numeric)\n",
    "    election_results['Spent'] = election_results['Spent'].apply(pd.to_numeric)\n",
    "    \n",
    "    election_results['percent_raised'] = election_results['Raised'] / election_results['Raised'].sum() * 100\n",
    "    election_results['percent_spent'] = election_results['Spent'] / election_results['Spent'].sum() * 100\n",
    "\n",
    "\n",
    "    election_results['State'] = state \n",
    "\n",
    "    election_results['District'] = district\n",
    "\n",
    "    election_results = election_results[['Candidate_name', \n",
    "                                         'Party', \n",
    "                                         'State',\n",
    "                                         'District',\n",
    "                                         'Incumbent', \n",
    "                                         'Winner', \n",
    "                                         'Raised', \n",
    "                                         'Spent',\n",
    "                                         'percent_raised',\n",
    "                                         'percent_spent']]\n",
    "    return election_results\n",
    "    \n",
    "def generate_dataframe(response):\n",
    "    soup = BS(response.text)\n",
    "    soup.prettify()\n",
    "    \n",
    "    \n",
    "    title = soup.find('title')\n",
    "    title = split_title(title)\n",
    "    state = (title[0])\n",
    "    district = title[1]\n",
    "    \n",
    "    election_results = pd.read_html(str(soup.find('table')))[0]\n",
    "    election_results = get_dataframe(state, district, election_results)\n",
    "    return election_results"
   ]
  },
  {
   "cell_type": "code",
   "execution_count": 95,
   "id": "236d45b9",
   "metadata": {},
   "outputs": [],
   "source": [
    "election_results = pd.DataFrame(columns=['Candidate_name', \n",
    "                                         'Party', \n",
    "                                         'State',\n",
    "                                         'District',\n",
    "                                         'Incumbent', \n",
    "                                         'Winner', \n",
    "                                         'Raised', \n",
    "                                         'Spent'])"
   ]
  },
  {
   "cell_type": "code",
   "execution_count": null,
   "id": "cd88a3ae",
   "metadata": {},
   "outputs": [],
   "source": [
    "URL_abb = \"https://www.scouting.org/resources/los/states/\"\n",
    "\n",
    "response_abb = requests.get(URL_abb)\n",
    "\n",
    "soup_abb = BS(response_abb.text)\n",
    "\n",
    "soup_abb"
   ]
  },
  {
   "cell_type": "code",
   "execution_count": null,
   "id": "c3557202",
   "metadata": {
    "scrolled": true
   },
   "outputs": [],
   "source": [
    "URL_states = \"https://www.britannica.com/topic/United-States-House-of-Representatives-Seats-by-State-1787120\"\n",
    "URL_abb = \"https://www.50states.com/abbreviations.htm\"\n",
    "\n",
    "response_states = requests.get(URL_states)\n",
    "response_abb = requests.get(URL_abb)\n",
    "\n",
    "soup = BS(response_states.text)\n",
    "\n",
    "soup_abb = BS(response_abb.text)\n",
    "\n",
    "abb = pd.read_html(str(soup_abb.find('table')))[0]\n",
    "abb = abb.drop(columns='STANDARD ABBREVIATION')\n",
    "abb = abb.rename(columns={'US STATE':'state', 'POSTAL ABBREVIATION':'state_abb'})\n",
    "\n",
    "\n",
    "states = pd.read_html(str(soup.find('table')))[0]\n",
    "states = states.drop([50])\n",
    "\n",
    "state_districts = pd.merge(states, abb, on='state')\n",
    "state_districts['representatives'] = state_districts['representatives'].apply(pd.to_numeric)\n",
    "state_districts = state_districts[['state_abb', 'representatives']].set_index('state_abb').T.to_dict('records')\n",
    "\n",
    "state_districts = state_districts[0]\n",
    "state_districts"
   ]
  },
  {
   "cell_type": "code",
   "execution_count": null,
   "id": "545c26a1",
   "metadata": {},
   "outputs": [],
   "source": [
    "for key in state_districts:\n",
    "    print(key)"
   ]
  },
  {
   "cell_type": "code",
   "execution_count": null,
   "id": "a943b5fe",
   "metadata": {
    "scrolled": true
   },
   "outputs": [],
   "source": [
    "for key in state_districts:\n",
    "    election_results = state_parse(key, state_districts[key])\n",
    "    election_results = election_results.append(election_results)\n",
    "\n",
    "election_results    "
   ]
  },
  {
   "cell_type": "code",
   "execution_count": null,
   "id": "8110e35e",
   "metadata": {},
   "outputs": [],
   "source": []
  }
 ],
 "metadata": {
  "kernelspec": {
   "display_name": "Python 3",
   "language": "python",
   "name": "python3"
  },
  "language_info": {
   "codemirror_mode": {
    "name": "ipython",
    "version": 3
   },
   "file_extension": ".py",
   "mimetype": "text/x-python",
   "name": "python",
   "nbconvert_exporter": "python",
   "pygments_lexer": "ipython3",
   "version": "3.8.8"
  }
 },
 "nbformat": 4,
 "nbformat_minor": 5
}
